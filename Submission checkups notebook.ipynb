{
    "metadata": {
        "kernelspec": {
            "name": "SQL",
            "display_name": "SQL",
            "language": "sql"
        },
        "language_info": {
            "name": "sql",
            "version": ""
        }
    },
    "nbformat_minor": 2,
    "nbformat": 4,
    "cells": [
        {
            "cell_type": "markdown",
            "source": [
                "MPCA checkups"
            ],
            "metadata": {
                "azdata_cell_guid": "d0caaf21-7b00-4da4-b4f0-9e68350b60e5"
            },
            "attachments": {}
        },
        {
            "cell_type": "code",
            "source": [
                "DECLARE @PeriodStart as varchar(100) = '20241111 00:00:00.000'\n",
                "DECLARE @PeriodEndPlusOne as varchar(100) = '20241118 00:00:00.000'\n",
                "\n",
                "PRINT 'Missing SPN'\n",
                "    SELECT [Registration group ID] as 'Group with Missing SPN'\n",
                "    FROM [progresSSISdb].[dbo].[RG]\n",
                "    where year([Created on]) > 2023\n",
                "    and [Group size] > 0\n",
                "    and [Registration group ID] not in (\n",
                "      'FC3-24-3438751','FC3-24-3340634','FC3-24-3579835','FC3-24-3659386','FC3-24-3385600', 'FC3-24-3946749', 'FC3-24-3196559', 'FC3-24-4678593',\n",
                "      'FC3-24-3284595', 'FC3-24-4678544', 'FC3-24-4595411', 'FC3-24-4678507', 'FC3-24-3709350', 'FC3-24-3199124', 'FC3-24-3752242', 'FC3-24-3558059', 'FC3-24-3703923'\n",
                "      )\n",
                "      -- groups to be moved to a table for easier future reference\n",
                "EXCEPT\n",
                "    SELECT [Registration group ID]\n",
                "    FROM [progresSSISdb].[dbo].[SPN]\n",
                "\n",
                "PRINT 'IND duplicates by Tax ID'\n",
                "SELECT [Legacy ID] as 'Duplicate Tax ID'\n",
                "        FROM [progresSSISdb].[dbo].[Ind]\n",
                "        where [Legal Status] <> 'not of concern'\n",
                "        and [Legacy ID] not in ('na','NTID A','NTID R','NTID D','NTID L','NTID LB')\n",
                "        and [Legacy ID] <> ''\n",
                "        and [Created On] < @PeriodStart\n",
                "INTERSECT\n",
                "    SELECT [Legacy ID]\n",
                "        FROM [progresSSISdb].[dbo].[Ind]\n",
                "        where [Legal Status] <> 'not of concern'\n",
                "        and [Legacy ID] not in ('na','NTID A','NTID R','NTID D','NTID L','NTID LB') \n",
                "        and [Legacy ID] <> ''\n",
                "        and [Created On] >= @PeriodStart\n",
                "        and [Created On] < @PeriodEndPlusOne\n",
                "\n",
                "PRINT 'IND duplicates by bio data'\n",
                "SELECT [Individual ID]\n",
                "      ,[Full Name] as 'Duplicate Name'\n",
                "      ,[Registration Group ID]\n",
                "      ,[Date of Birth] 'Duplicate DoB'\n",
                "  FROM [progresSSISdb].[dbo].[Ind]\n",
                "  where CONCAT([Full Name],[Date of Birth]) in (\n",
                "      SELECT CONCAT([Full Name],[Date of Birth]) FNDB\n",
                "        FROM [progresSSISdb].[dbo].[Ind]\n",
                "        where [Registration Date] < @PeriodStart\n",
                "        and [Legal Status] <> 'not of concern'\n",
                "      INTERSECT\n",
                "      SELECT CONCAT([Full Name],[Date of Birth]) FNDB\n",
                "        FROM [progresSSISdb].[dbo].[Ind]\n",
                "        where [Registration Date] >= @PeriodStart\n",
                "        and [Registration Date] < @PeriodEndPlusOne\n",
                "        and [Legal Status] <> 'not of concern'\n",
                "  )\n",
                "  order by [Full Name]\n",
                "\n",
                "PRINT 'Phone number duplicates'\n",
                "SELECT [Individual ID]\n",
                "      ,[Full Name]\n",
                "      ,[Registration Group ID]\n",
                "      ,[Legal Status]\n",
                "      ,[Age]\n",
                "      ,[Sex]\n",
                "      ,[Legacy ID]\n",
                "      ,[Relationship to Focal Point]\n",
                "      ,[Phone Number] as 'Duplicate phone number'\n",
                "      ,[Created On]\n",
                "  FROM [progresSSISdb].[dbo].[Ind]\n",
                "  where [Phone Number] in (\n",
                "      SELECT [Phone Number]\n",
                "        FROM [progresSSISdb].[dbo].[Ind]\n",
                "        where [Registration Date] < @PeriodStart\n",
                "        and [Phone number] <> '+380000000000'\n",
                "    INTERSECT\n",
                "      SELECT [Phone Number]\n",
                "        FROM [progresSSISdb].[dbo].[Ind]\n",
                "        where [Registration Date] >= @PeriodStart\n",
                "        and [Registration Date] < @PeriodEndPlusOne\n",
                "        and [Phone number] <> '+380000000000'\n",
                "    )\n",
                "  order by [Phone Number]\n",
                "\n",
                "PRINT 'RCp duplicates'\n",
                "SELECT [Reception ID]\n",
                "      ,[Group Size]\n",
                "      ,[Government Form Number]\n",
                "      ,[Reception Location]\n",
                "      ,[Registration Group ID]\n",
                "  FROM [progresSSISdb].[dbo].[RCP]\n",
                "  join [progresSSISdb].[dbo].[Ind] on [progresSSISdb].[dbo].[Ind].[Legacy ID] = [progresSSISdb].[dbo].[RCP].[Government Form Number]\n",
                "  where [Government Form Number] in (\n",
                "        SELECT [Government Form Number]\n",
                "        FROM [progresSSISdb].[dbo].[RCP]\n",
                "        INTERSECT\n",
                "        SELECT [Legacy ID]\n",
                "            FROM [progresSSISdb].[dbo].[Ind]\n",
                "            where [Legal Status] <> 'not of concern'\n",
                "            and [Legacy ID] not in ('na','NTID A','NTID R','NTID D','NTID L','NTID LB') \n",
                "            and [Legacy ID] <> ''\n",
                "        and [Created On] >= @PeriodStart\n",
                "        and [Created On] < @PeriodEndPlusOne\n",
                "  )\n",
                "  order by [Reception Location]\n",
                "\n",
                "  PRINT 'IDP More than 6 months ago (excluding emergency)'\n",
                "  SELECT [Individual ID]\n",
                "      ,[Registration Group ID]\n",
                "      ,[Legal Status]\n",
                "      ,[Arrival date]\n",
                "      ,cast([Created on] as date) as 'Created on'\n",
                "      ,DATEDIFF(day,[Arrival date],cast([Created on] as date)) as 'Difference in days is greater than 180'\n",
                "  FROM [progresSSISdb].[dbo].[Ind]\n",
                "  where \n",
                "    [Legal Status] in ('IDP-like', 'Internally displaced person')\n",
                "    and\n",
                "    DATEDIFF(day,[Arrival date],cast([Created on] as date)) > 180\n",
                "    AND\n",
                "    [Registration Group ID] not in (\n",
                "        SELECT [Registration group]\n",
                "        FROM [progresSSISdb].[dbo].[Events]\n",
                "        where Event = 'ukidp-reg13'\n",
                "    )\n",
                "    and [Created On] >= @PeriodStart\n",
                "    and [Created On] < @PeriodEndPlusOne\n",
                "\n",
                "PRINT 'Documents'\n",
                "PRINT 'Duplicates'\n",
                "\n",
                "SELECT [Individual]\n",
                "      ,[Full name]\n",
                "      ,[Date of birth]\n",
                "      ,[Legal Status]\n",
                "      ,[Document category]\n",
                "      ,[Document type]\n",
                "      ,[Document sub type]\n",
                "      ,[Number] 'Number-Duplicate'\n",
                "      ,[Date of issue]\n",
                "      ,[Date of expiry]\n",
                "      ,[Is original]\n",
                "      ,[Is official]\n",
                "      ,[Original seen]\n",
                "      ,[progresSSISdb].[dbo].[Doc].[Created on]\n",
                "  FROM [progresSSISdb].[dbo].[Doc]\n",
                "  join [progresSSISdb].[dbo].[Ind] on [progresSSISdb].[dbo].[Ind].[Individual ID] = [progresSSISdb].[dbo].[Doc].[Individual]\n",
                "  where [Number] in (\n",
                "        SELECT [Number]\n",
                "        FROM [progresSSISdb].[dbo].[Doc]\n",
                "        where [Document type] in (\n",
                "            'Tax Registration Document',\n",
                "            'National passport',\n",
                "            'Birth Certificate',\n",
                "            'National identity card'\n",
                "        )\n",
                "        AND [Created On] >= @PeriodStart\n",
                "        AND [Created On] < @PeriodEndPlusOne\n",
                "\n",
                "        INTERSECT\n",
                "\n",
                "        SELECT [Number]\n",
                "        FROM [progresSSISdb].[dbo].[Doc]\n",
                "        where [Document type] in (\n",
                "            'Tax Registration Document',\n",
                "            'National passport',\n",
                "            'Birth Certificate',\n",
                "            'National identity card'\n",
                "        )\n",
                "        AND [Created On] < @PeriodStart    \n",
                "  )\n",
                "  and [Document type] in (\n",
                "    'Tax Registration Document',\n",
                "    'National passport',\n",
                "    'Birth Certificate',\n",
                "    'National identity card'\n",
                "  )\n",
                "  ORDER by [Number]\n",
                "\n",
                "PRINT 'Tax ID wrong length'\n",
                "\n",
                "SELECT [Individual]\n",
                "      ,[Document category]\n",
                "      ,[Document type]\n",
                "      ,[Document sub type]\n",
                "      ,[Number]\n",
                "      ,len(Number) 'Tax ID wrong Length'\n",
                "      ,[Date of issue]\n",
                "      ,[Date of expiry]\n",
                "      ,[Is original]\n",
                "      ,[Is official]\n",
                "      ,[Original seen]\n",
                "      ,[Created on]\n",
                "  FROM [progresSSISdb].[dbo].[Doc]\n",
                "  where [Document type] = 'Tax Registration Document'\n",
                "  and len(Number) <> 10\n",
                "  AND [Created On] >= @PeriodStart\n",
                "  AND [Created On] < @PeriodEndPlusOne\n",
                "\n",
                "PRINT 'Passport wrong length'\n",
                "\n",
                "SELECT [Individual]\n",
                "      ,[Document category]\n",
                "      ,[Document type]\n",
                "      ,[Document sub type]\n",
                "      ,[Number]\n",
                "      ,len(Number) 'Passport wrong Length'\n",
                "      ,[Date of issue]\n",
                "      ,[Date of expiry]\n",
                "      ,[Is original]\n",
                "      ,[Is official]\n",
                "      ,[Original seen]\n",
                "      ,[Created on]\n",
                "  FROM [progresSSISdb].[dbo].[Doc]\n",
                "  where [Document type] = 'National passport'\n",
                "  and len(Number) <> 8\n",
                "  AND [Created On] >= @PeriodStart\n",
                "  AND [Created On] < @PeriodEndPlusOne\n",
                "\n",
                "PRINT 'Identity card wrong Length'\n",
                "\n",
                "SELECT [Individual]\n",
                "      ,[Document category]\n",
                "      ,[Document type]\n",
                "      ,[Document sub type]\n",
                "      ,[Number]\n",
                "      ,len(Number) 'Identity card wrong Length'\n",
                "      ,[Date of issue]\n",
                "      ,[Date of expiry]\n",
                "      ,[Is original]\n",
                "      ,[Is official]\n",
                "      ,[Original seen]\n",
                "      ,[Created on]\n",
                "  FROM [progresSSISdb].[dbo].[Doc]\n",
                "  where [Document type] = 'National identity card'\n",
                "  and len(Number) <> 9\n",
                "  AND [Created On] >= @PeriodStart\n",
                "  AND [Created On] < @PeriodEndPlusOne\n",
                "\n",
                "PRINT 'Birth Certificate wrong Length' --Exclude BCs with latin letters\n",
                "\n",
                "SELECT [Individual]\n",
                "      ,[Document category]\n",
                "      ,[Document type]\n",
                "      ,[Document sub type]\n",
                "      ,[Number]\n",
                "      ,len(Number) 'Birth Certificate wrong Length'\n",
                "      ,[Date of issue]\n",
                "      ,[Date of expiry]\n",
                "      ,[Is original]\n",
                "      ,[Is official]\n",
                "      ,[Original seen]\n",
                "      ,[Created on]\n",
                "  FROM [progresSSISdb].[dbo].[Doc]\n",
                "  where [Document type] = 'Birth Certificate'\n",
                "  and len(Number) <> 10\n",
                "  AND [Created On] >= @PeriodStart\n",
                "  AND [Created On] < @PeriodEndPlusOne\n",
                "  AND Number not like '%[a-zA-Z]%'\n",
                "\n",
                "  PRINT 'Missing UKIDP-REG02 NO TAX ID event' --Missing event\n",
                "\n",
                "  SELECT [Individual ID] 'Missing UKIDP-REG02 NO TAX ID event'\n",
                "    FROM [progresSSISdb].[dbo].[Ind]\n",
                "    where [Legacy ID] in ('na','NTID A','NTID R','NTID D','NTID L','NTID LB')\n",
                "    AND [Created On] >= @PeriodStart\n",
                "    AND [Created On] < @PeriodEndPlusOne\n",
                "\n",
                "  EXCEPT\n",
                "\n",
                "  SELECT distinct([Individual])\n",
                "    FROM [progresSSISdb].[dbo].[Events]\n",
                "    JOIN [progresSSISdb].[dbo].[Ind] on [progresSSISdb].[dbo].[Ind].[Individual ID] = [progresSSISdb].[dbo].[Events].[Individual]\n",
                "    where [Event] = 'UKIDP-REG02'\n",
                "    AND [progresSSISdb].[dbo].[Ind].[Created On] >= @PeriodStart\n",
                "    AND [progresSSISdb].[dbo].[Ind].[Created On] < @PeriodEndPlusOne\n",
                "\n",
                "PRINT 'Wrong NO TAX ID code'\n",
                "\n",
                "  SELECT distinct([Individual]) 'Wrong NO TAX ID code' --The event without proper code\n",
                "    FROM [progresSSISdb].[dbo].[Events]\n",
                "    JOIN [progresSSISdb].[dbo].[Ind] on [progresSSISdb].[dbo].[Ind].[Individual ID] = [progresSSISdb].[dbo].[Events].[Individual]\n",
                "    where [Event] = 'UKIDP-REG02'\n",
                "    AND [progresSSISdb].[dbo].[Ind].[Created On] >= @PeriodStart\n",
                "    AND [progresSSISdb].[dbo].[Ind].[Created On] < @PeriodEndPlusOne\n",
                "\n",
                "  EXCEPT\n",
                "\n",
                "  SELECT [Individual ID]\n",
                "    FROM [progresSSISdb].[dbo].[Ind]\n",
                "    where [Legacy ID] in ('na','NTID A','NTID R','NTID D','NTID L','NTID LB')\n",
                "    AND [Created On] >= @PeriodStart\n",
                "    AND [Created On] < @PeriodEndPlusOne\n",
                "\n",
                "PRINT 'Result to Code correspondance check for Missing Tax IDs'\n",
                "\n",
                "  select [Individual ID]\n",
                "      ,[Full name]\n",
                "      ,[Registration Group ID]\n",
                "      ,[Legal Status]\n",
                "      ,[Arrival date]\n",
                "      ,[Legacy ID]\n",
                "      ,[Result]\n",
                "      ,[Result short name]\n",
                "      ,'Result to Code correspondance check for Missing Tax IDs' 'Comments'\n",
                "from (\n",
                "    SELECT [Individual ID]\n",
                "        ,[Full name]\n",
                "        ,[Registration Group ID]\n",
                "        ,[Legal Status]\n",
                "        ,[Arrival date]\n",
                "        ,[Legacy ID]\n",
                "        ,[Result]\n",
                "        ,[Result short name]\n",
                "            ,CASE\n",
                "                WHEN ([Legacy ID] = 'NTID R') and (Result = 'UKIDP-REG04') THEN 'OK'\n",
                "                WHEN ([Legacy ID] = 'NTID A') and (Result = 'UKIDP-REG03') THEN 'OK'\n",
                "                WHEN ([Legacy ID] = 'NTID D') and (Result = 'UKIDP-REG05') THEN 'OK'\n",
                "                WHEN ([Legacy ID] = 'NTID L') and (Result = 'UKIDP-REG06') THEN 'OK'\n",
                "                WHEN ([Legacy ID] = 'NTID LB') and (Result = 'UKIDP-REG07') THEN 'OK'\n",
                "                ELSE 'NOK'\n",
                "            END 'Result correspondance check'        \n",
                "    FROM [progresSSISdb].[dbo].[Ind]\n",
                "    left join [progresSSISdb].[dbo].[Events] on [progresSSISdb].[dbo].[Ind].[Individual ID] = [progresSSISdb].[dbo].[Events].Individual\n",
                "              and [progresSSISdb].[dbo].[Events].[Event] = 'UKIDP-REG02'\n",
                "        where [progresSSISdb].[dbo].[Ind].[Created On] >= @PeriodStart\n",
                "        AND [progresSSISdb].[dbo].[Ind].[Created On] < @PeriodEndPlusOne\n",
                "        AND [Legacy ID] like '%[^0-9]%'\n",
                "    ) as Temp\n",
                "  WHERE [Result correspondance check] = 'NOK'\n",
                "\n",
                ""
            ],
            "metadata": {
                "azdata_cell_guid": "e5e08be1-df2d-4713-a470-9dd8f406fcb7",
                "language": "sql",
                "tags": []
            },
            "outputs": [
                {
                    "output_type": "display_data",
                    "data": {
                        "text/html": "Missing SPN"
                    },
                    "metadata": {}
                },
                {
                    "output_type": "display_data",
                    "data": {
                        "text/html": "(3 rows affected)"
                    },
                    "metadata": {}
                },
                {
                    "output_type": "display_data",
                    "data": {
                        "text/html": "IND duplicates by Tax ID"
                    },
                    "metadata": {}
                },
                {
                    "output_type": "display_data",
                    "data": {
                        "text/html": "(0 rows affected)"
                    },
                    "metadata": {}
                },
                {
                    "output_type": "display_data",
                    "data": {
                        "text/html": "IND duplicates by bio data"
                    },
                    "metadata": {}
                },
                {
                    "output_type": "display_data",
                    "data": {
                        "text/html": "(2 rows affected)"
                    },
                    "metadata": {}
                },
                {
                    "output_type": "display_data",
                    "data": {
                        "text/html": "Phone number duplicates"
                    },
                    "metadata": {}
                },
                {
                    "output_type": "display_data",
                    "data": {
                        "text/html": "(26 rows affected)"
                    },
                    "metadata": {}
                },
                {
                    "output_type": "display_data",
                    "data": {
                        "text/html": "RCp duplicates"
                    },
                    "metadata": {}
                },
                {
                    "output_type": "display_data",
                    "data": {
                        "text/html": "(157 rows affected)"
                    },
                    "metadata": {}
                },
                {
                    "output_type": "display_data",
                    "data": {
                        "text/html": "IDP More than 6 months ago (excluding emergency)"
                    },
                    "metadata": {}
                },
                {
                    "output_type": "display_data",
                    "data": {
                        "text/html": "(0 rows affected)"
                    },
                    "metadata": {}
                },
                {
                    "output_type": "display_data",
                    "data": {
                        "text/html": "Documents"
                    },
                    "metadata": {}
                },
                {
                    "output_type": "display_data",
                    "data": {
                        "text/html": "Duplicates"
                    },
                    "metadata": {}
                },
                {
                    "output_type": "display_data",
                    "data": {
                        "text/html": "(22 rows affected)"
                    },
                    "metadata": {}
                },
                {
                    "output_type": "display_data",
                    "data": {
                        "text/html": "Tax ID wrong length"
                    },
                    "metadata": {}
                },
                {
                    "output_type": "display_data",
                    "data": {
                        "text/html": "(3 rows affected)"
                    },
                    "metadata": {}
                },
                {
                    "output_type": "display_data",
                    "data": {
                        "text/html": "Passport wrong length"
                    },
                    "metadata": {}
                },
                {
                    "output_type": "display_data",
                    "data": {
                        "text/html": "(11 rows affected)"
                    },
                    "metadata": {}
                },
                {
                    "output_type": "display_data",
                    "data": {
                        "text/html": "Identity card wrong Length"
                    },
                    "metadata": {}
                },
                {
                    "output_type": "display_data",
                    "data": {
                        "text/html": "(5 rows affected)"
                    },
                    "metadata": {}
                },
                {
                    "output_type": "display_data",
                    "data": {
                        "text/html": "Birth Certificate wrong Length"
                    },
                    "metadata": {}
                },
                {
                    "output_type": "display_data",
                    "data": {
                        "text/html": "(8 rows affected)"
                    },
                    "metadata": {}
                },
                {
                    "output_type": "display_data",
                    "data": {
                        "text/html": "Missing UKIDP-REG02 NO TAX ID event"
                    },
                    "metadata": {}
                },
                {
                    "output_type": "display_data",
                    "data": {
                        "text/html": "(0 rows affected)"
                    },
                    "metadata": {}
                },
                {
                    "output_type": "display_data",
                    "data": {
                        "text/html": "Wrong NO TAX ID code"
                    },
                    "metadata": {}
                },
                {
                    "output_type": "display_data",
                    "data": {
                        "text/html": "(0 rows affected)"
                    },
                    "metadata": {}
                },
                {
                    "output_type": "display_data",
                    "data": {
                        "text/html": "Result to Code correspondance check for Missing Tax IDs"
                    },
                    "metadata": {}
                },
                {
                    "output_type": "display_data",
                    "data": {
                        "text/html": "(10 rows affected)"
                    },
                    "metadata": {}
                },
                {
                    "output_type": "display_data",
                    "data": {
                        "text/html": "Total execution time: 00:02:08.141"
                    },
                    "metadata": {}
                },
                {
                    "output_type": "execute_result",
                    "metadata": {},
                    "execution_count": 3,
                    "data": {
                        "application/vnd.dataresource+json": {
                            "schema": {
                                "fields": [
                                    {
                                        "name": "Group with Missing SPN"
                                    }
                                ]
                            },
                            "data": [
                                {
                                    "Group with Missing SPN": "FC3-24-3643996"
                                },
                                {
                                    "Group with Missing SPN": "FC3-24-3245242"
                                },
                                {
                                    "Group with Missing SPN": "FC3-24-3419383"
                                }
                            ]
                        },
                        "text/html": [
                            "<table>",
                            "<tr><th>Group with Missing SPN</th></tr>",
                            "<tr><td>FC3-24-3643996</td></tr>",
                            "<tr><td>FC3-24-3245242</td></tr>",
                            "<tr><td>FC3-24-3419383</td></tr>",
                            "</table>"
                        ]
                    }
                },
                {
                    "output_type": "execute_result",
                    "metadata": {},
                    "execution_count": 3,
                    "data": {
                        "application/vnd.dataresource+json": {
                            "schema": {
                                "fields": [
                                    {
                                        "name": "Duplicate Tax ID"
                                    }
                                ]
                            },
                            "data": []
                        },
                        "text/html": [
                            "<table>",
                            "<tr><th>Duplicate Tax ID</th></tr>",
                            "</table>"
                        ]
                    }
                },
                {
                    "output_type": "execute_result",
                    "metadata": {},
                    "execution_count": 3,
                    "data": {
                        "application/vnd.dataresource+json": {
                            "schema": {
                                "fields": [
                                    {
                                        "name": "Individual ID"
                                    },
                                    {
                                        "name": "Duplicate Name"
                                    },
                                    {
                                        "name": "Registration Group ID"
                                    },
                                    {
                                        "name": "Duplicate DoB"
                                    }
                                ]
                            },
                            "data": [
                                {
                                    "Individual ID": "22D-00124276",
                                    "Duplicate Name": "Куценко, Ілля Ігорович",
                                    "Registration Group ID": "22D-22-63680",
                                    "Duplicate DoB": "2014-07-30"
                                },
                                {
                                    "Individual ID": "FC3-110751411",
                                    "Duplicate Name": "Куценко, Ілля Ігорович",
                                    "Registration Group ID": "22D-22-63689",
                                    "Duplicate DoB": "2014-07-30"
                                }
                            ]
                        },
                        "text/html": [
                            "<table>",
                            "<tr><th>Individual ID</th><th>Duplicate Name</th><th>Registration Group ID</th><th>Duplicate DoB</th></tr>",
                            "<tr><td>22D-00124276</td><td>Куценко, Ілля Ігорович</td><td>22D-22-63680</td><td>2014-07-30</td></tr>",
                            "<tr><td>FC3-110751411</td><td>Куценко, Ілля Ігорович</td><td>22D-22-63689</td><td>2014-07-30</td></tr>",
                            "</table>"
                        ]
                    }
                },
                {
                    "output_type": "execute_result",
                    "metadata": {},
                    "execution_count": 3,
                    "data": {
                        "application/vnd.dataresource+json": {
                            "schema": {
                                "fields": [
                                    {
                                        "name": "Individual ID"
                                    },
                                    {
                                        "name": "Full Name"
                                    },
                                    {
                                        "name": "Registration Group ID"
                                    },
                                    {
                                        "name": "Legal Status"
                                    },
                                    {
                                        "name": "Age"
                                    },
                                    {
                                        "name": "Sex"
                                    },
                                    {
                                        "name": "Legacy ID"
                                    },
                                    {
                                        "name": "Relationship to Focal Point"
                                    },
                                    {
                                        "name": "Duplicate phone number"
                                    },
                                    {
                                        "name": "Created On"
                                    }
                                ]
                            },
                            "data": [
                                {
                                    "Individual ID": "FC3-108095056",
                                    "Full Name": "Дикань, Віктор Володимирович",
                                    "Registration Group ID": "FC3-24-3899315",
                                    "Legal Status": "Other of concern",
                                    "Age": "68",
                                    "Sex": "Male",
                                    "Legacy ID": "2051615474",
                                    "Relationship to Focal Point": "Focal Point",
                                    "Duplicate phone number": "+380502037338",
                                    "Created On": "2024-05-10 08:46:32.000"
                                },
                                {
                                    "Individual ID": "FC3-110790547",
                                    "Full Name": "Дикань, Віктор Володимирович",
                                    "Registration Group ID": "FC3-24-4693880",
                                    "Legal Status": "Not of concern",
                                    "Age": "68",
                                    "Sex": "Male",
                                    "Legacy ID": "2051615474",
                                    "Relationship to Focal Point": "Focal Point",
                                    "Duplicate phone number": "+380502037338",
                                    "Created On": "2024-11-14 12:18:08.000"
                                },
                                {
                                    "Individual ID": "FC3-109587032",
                                    "Full Name": "Рябошапка, Ганна Андріївна",
                                    "Registration Group ID": "FC3-24-4363751",
                                    "Legal Status": "Returned IDP",
                                    "Age": "38",
                                    "Sex": "Female",
                                    "Legacy ID": "3144901645",
                                    "Relationship to Focal Point": "Focal Point",
                                    "Duplicate phone number": "+380502779875",
                                    "Created On": "2024-08-21 12:52:36.000"
                                },
                                {
                                    "Individual ID": "FC3-110730279",
                                    "Full Name": "Рябошапка, Олександр Миколайович",
                                    "Registration Group ID": "FC3-24-4682307",
                                    "Legal Status": "Other of concern",
                                    "Age": "43",
                                    "Sex": "Male",
                                    "Legacy ID": "2969604191",
                                    "Relationship to Focal Point": "Focal Point",
                                    "Duplicate phone number": "+380502779875",
                                    "Created On": "2024-11-11 16:05:27.000"
                                },
                                {
                                    "Individual ID": "FC3-102744271",
                                    "Full Name": "Робейко, Василь Миколайович",
                                    "Registration Group ID": "FC3-23-2025439",
                                    "Legal Status": "Internally displaced person",
                                    "Age": "74",
                                    "Sex": "Male",
                                    "Legacy ID": "1832705194",
                                    "Relationship to Focal Point": "Father",
                                    "Duplicate phone number": "+380507781940",
                                    "Created On": "2023-07-21 16:17:14.000"
                                },
                                {
                                    "Individual ID": "FC3-110766496",
                                    "Full Name": "Робейко, Вадим Васильович",
                                    "Registration Group ID": "FC3-23-2025439",
                                    "Legal Status": "Internally displaced person",
                                    "Age": "52",
                                    "Sex": "Male",
                                    "Legacy ID": "2642205157",
                                    "Relationship to Focal Point": "Focal Point",
                                    "Duplicate phone number": "+380507781940",
                                    "Created On": "2024-11-13 10:37:01.000"
                                },
                                {
                                    "Individual ID": "FC3-110728064",
                                    "Full Name": "Малашина, Галина Миколаївна",
                                    "Registration Group ID": "FC3-24-4681716",
                                    "Legal Status": "Not of concern",
                                    "Age": "68",
                                    "Sex": "Female",
                                    "Legacy ID": "2051715824",
                                    "Relationship to Focal Point": "Focal Point",
                                    "Duplicate phone number": "+380508279961",
                                    "Created On": "2024-11-11 14:02:13.000"
                                },
                                {
                                    "Individual ID": "FC3-00120650",
                                    "Full Name": "Малашина, Галина Миколаївна",
                                    "Registration Group ID": "FC3-22-69762",
                                    "Legal Status": "Internally displaced person",
                                    "Age": "68",
                                    "Sex": "Female",
                                    "Legacy ID": "2051715824",
                                    "Relationship to Focal Point": "Focal Point",
                                    "Duplicate phone number": "+380508279961",
                                    "Created On": "2022-11-29 13:35:48.000"
                                },
                                {
                                    "Individual ID": "FC3-108168752",
                                    "Full Name": "Плуталова, Анжеліка Олексіївна",
                                    "Registration Group ID": "FC3-24-3926043",
                                    "Legal Status": "Internally displaced person",
                                    "Age": "15",
                                    "Sex": "Female",
                                    "Legacy ID": "3990304845",
                                    "Relationship to Focal Point": "Daughter",
                                    "Duplicate phone number": "+380509894544",
                                    "Created On": "2024-05-16 15:15:15.000"
                                },
                                {
                                    "Individual ID": "FC3-110747613",
                                    "Full Name": "Пилипишина, Катерина Олексіївна",
                                    "Registration Group ID": "FC3-24-4685635",
                                    "Legal Status": "Internally displaced person",
                                    "Age": "68",
                                    "Sex": "Female",
                                    "Legacy ID": "2054523981",
                                    "Relationship to Focal Point": "Focal Point",
                                    "Duplicate phone number": "+380509894544",
                                    "Created On": "2024-11-12 12:59:29.000"
                                },
                                {
                                    "Individual ID": "1E1-00045274",
                                    "Full Name": "Анісковець, Марина Валеріївна",
                                    "Registration Group ID": "1E1-22-18572",
                                    "Legal Status": "Internally displaced person",
                                    "Age": "39",
                                    "Sex": "Female",
                                    "Legacy ID": "3121013427",
                                    "Relationship to Focal Point": "Focal Point",
                                    "Duplicate phone number": "+380635612209",
                                    "Created On": "2022-04-06 22:15:33.000"
                                },
                                {
                                    "Individual ID": "FC3-110746390",
                                    "Full Name": "Анісковець, Валентина Миколаївна",
                                    "Registration Group ID": "FC3-24-4685308",
                                    "Legal Status": "Returned IDP",
                                    "Age": "73",
                                    "Sex": "Female",
                                    "Legacy ID": "1858621765",
                                    "Relationship to Focal Point": "Focal Point",
                                    "Duplicate phone number": "+380635612209",
                                    "Created On": "2024-11-12 12:03:40.000"
                                },
                                {
                                    "Individual ID": "FC3-104448544",
                                    "Full Name": "Ткаченко, Наталія Анатоліївна",
                                    "Registration Group ID": "FC3-23-2717169",
                                    "Legal Status": "Other of concern",
                                    "Age": "66",
                                    "Sex": "Female",
                                    "Legacy ID": "2137906966",
                                    "Relationship to Focal Point": "Focal Point",
                                    "Duplicate phone number": "+380660416178",
                                    "Created On": "2023-11-03 14:32:19.000"
                                },
                                {
                                    "Individual ID": "FC3-110813451",
                                    "Full Name": "Фролова, Олена Олександрівна",
                                    "Registration Group ID": "FC3-24-4698404",
                                    "Legal Status": "Other of concern",
                                    "Age": "43",
                                    "Sex": "Female",
                                    "Legacy ID": "2977506647",
                                    "Relationship to Focal Point": "Focal Point",
                                    "Duplicate phone number": "+380660416178",
                                    "Created On": "2024-11-15 14:42:25.000"
                                },
                                {
                                    "Individual ID": "FC3-110811212",
                                    "Full Name": "Ліхачова, Алла Петрівна",
                                    "Registration Group ID": "FC3-24-4697791",
                                    "Legal Status": "Not of concern",
                                    "Age": "84",
                                    "Sex": "Female",
                                    "Legacy ID": "1465704208",
                                    "Relationship to Focal Point": "Grandmother",
                                    "Duplicate phone number": "+380662115365",
                                    "Created On": "2024-11-15 12:10:03.000"
                                },
                                {
                                    "Individual ID": "FC3-110492287",
                                    "Full Name": "Ліхачова, Алла Петрівна",
                                    "Registration Group ID": "FC3-24-4620133",
                                    "Legal Status": "Internally displaced person",
                                    "Age": "84",
                                    "Sex": "Female",
                                    "Legacy ID": "1465704208",
                                    "Relationship to Focal Point": "Focal Point",
                                    "Duplicate phone number": "+380662115365",
                                    "Created On": "2024-10-24 11:07:39.000"
                                },
                                {
                                    "Individual ID": "FC3-110746972",
                                    "Full Name": "Бавда, Марія Михайлівна",
                                    "Registration Group ID": "FC3-24-4685471",
                                    "Legal Status": "Returned IDP",
                                    "Age": "76",
                                    "Sex": "Female",
                                    "Legacy ID": "1773420322",
                                    "Relationship to Focal Point": "Focal Point",
                                    "Duplicate phone number": "+380663019846",
                                    "Created On": "2024-11-12 12:28:59.000"
                                },
                                {
                                    "Individual ID": "FC3-00083526",
                                    "Full Name": "Бавда, Володимир Володимирович",
                                    "Registration Group ID": "FC3-22-47380",
                                    "Legal Status": "Returned IDP",
                                    "Age": "50",
                                    "Sex": "Male",
                                    "Legacy ID": "2722701817",
                                    "Relationship to Focal Point": "Focal Point",
                                    "Duplicate phone number": "+380663019846",
                                    "Created On": "2022-11-09 14:54:59.000"
                                },
                                {
                                    "Individual ID": "FC3-106090794",
                                    "Full Name": "Красуля, Світлана Федорівна",
                                    "Registration Group ID": "FC3-24-3285361",
                                    "Legal Status": "Other of concern",
                                    "Age": "74",
                                    "Sex": "Female",
                                    "Legacy ID": "1823228741",
                                    "Relationship to Focal Point": "Focal Point",
                                    "Duplicate phone number": "+380663055739",
                                    "Created On": "2024-01-26 15:07:44.000"
                                },
                                {
                                    "Individual ID": "FC3-110728568",
                                    "Full Name": "Грищенко, Олена Олексіївна",
                                    "Registration Group ID": "FC3-24-4681874",
                                    "Legal Status": "Returned IDP",
                                    "Age": "51",
                                    "Sex": "Female",
                                    "Legacy ID": "2680204245",
                                    "Relationship to Focal Point": "Focal Point",
                                    "Duplicate phone number": "+380663055739",
                                    "Created On": "2024-11-11 14:30:56.000"
                                },
                                {
                                    "Individual ID": "FC3-109530634",
                                    "Full Name": "Колесник, Тамара Михайлівна",
                                    "Registration Group ID": "FC3-24-4346875",
                                    "Legal Status": "Internally displaced person",
                                    "Age": "62",
                                    "Sex": "Female",
                                    "Legacy ID": "2278319684",
                                    "Relationship to Focal Point": "Focal Point",
                                    "Duplicate phone number": "+380666283327",
                                    "Created On": "2024-08-15 12:24:31.000"
                                },
                                {
                                    "Individual ID": "FC3-110792975",
                                    "Full Name": "Сміян, Ігор Іванович",
                                    "Registration Group ID": "FC3-24-4694487",
                                    "Legal Status": "Internally displaced person",
                                    "Age": "56",
                                    "Sex": "Male",
                                    "Legacy ID": "2499900871",
                                    "Relationship to Focal Point": "Focal Point",
                                    "Duplicate phone number": "+380666283327",
                                    "Created On": "2024-11-14 14:48:00.000"
                                },
                                {
                                    "Individual ID": "FC3-110789378",
                                    "Full Name": "Макаренко, Наталія Михайлівна",
                                    "Registration Group ID": "FC3-24-4693596",
                                    "Legal Status": "Returned IDP",
                                    "Age": "62",
                                    "Sex": "Female",
                                    "Legacy ID": "2284905303",
                                    "Relationship to Focal Point": "Focal Point",
                                    "Duplicate phone number": "+380667421839",
                                    "Created On": "2024-11-14 11:16:51.000"
                                },
                                {
                                    "Individual ID": "FC3-102854784",
                                    "Full Name": "Неофітний, Михайло Васильович",
                                    "Registration Group ID": "FC3-23-2069550",
                                    "Legal Status": "Other of concern",
                                    "Age": "87",
                                    "Sex": "Male",
                                    "Legacy ID": "1380204598",
                                    "Relationship to Focal Point": "Focal Point",
                                    "Duplicate phone number": "+380667421839",
                                    "Created On": "2023-07-27 13:54:56.000"
                                },
                                {
                                    "Individual ID": "FC3-110385041",
                                    "Full Name": "Шевченко, Ольга Григорівна",
                                    "Registration Group ID": "FC3-24-4592739",
                                    "Legal Status": "Internally displaced person",
                                    "Age": "72",
                                    "Sex": "Female",
                                    "Legacy ID": "1919622889",
                                    "Relationship to Focal Point": "Focal Point",
                                    "Duplicate phone number": "+380954101640",
                                    "Created On": "2024-10-15 12:31:55.000"
                                },
                                {
                                    "Individual ID": "澀媛ࣜ954101640splaced personиччна\u0000\u0000\u0000\u0000\u0000\u0000\u0000\u0000\u0000\u0000\u0000\u0000\u0000\u0000\u0000\u0000\u0000\u0000\u0000\u0000\u0000\u0000\u0000\u0000\u0000\u0000\u0000\u0000\u0000\u0000\u0000\u0000",
                                    "Full Name": "澀媛ࣜ954101640splaced personиччна\u0000\u0000\u0000\u0000\u0000\u0000\u0000\u0000\u0000\u0000\u0000\u0000\u0000\u0000\u0000\u0000\u0000\u0000\u0000\u0000\u0000\u0000\u0000\u0000\u0000\u0000\u0000\u0000\u0000\u0000\u0000\u0000",
                                    "Registration Group ID": "澀媛ࣜ954101640splaced personиччна\u0000\u0000\u0000\u0000\u0000\u0000\u0000\u0000\u0000\u0000\u0000\u0000\u0000\u0000\u0000\u0000\u0000\u0000\u0000\u0000\u0000\u0000\u0000\u0000\u0000\u0000\u0000\u0000\u0000\u0000\u0000\u0000",
                                    "Legal Status": "澀媛ࣜ954101640splaced personиччна\u0000\u0000\u0000\u0000\u0000\u0000\u0000\u0000\u0000\u0000\u0000\u0000\u0000\u0000\u0000\u0000\u0000\u0000\u0000\u0000\u0000\u0000\u0000\u0000\u0000\u0000\u0000\u0000\u0000\u0000\u0000\u0000",
                                    "Age": "1520136064",
                                    "Sex": "澀媛ࣜ954101640splaced personиччна\u0000\u0000\u0000\u0000\u0000\u0000\u0000\u0000\u0000\u0000\u0000\u0000\u0000\u0000\u0000\u0000\u0000\u0000\u0000\u0000\u0000\u0000\u0000\u0000\u0000\u0000\u0000\u0000\u0000\u0000\u0000\u0000",
                                    "Legacy ID": "澀媛ࣜ954101640splaced personиччна\u0000\u0000\u0000\u0000\u0000\u0000\u0000\u0000\u0000\u0000\u0000\u0000\u0000\u0000\u0000\u0000\u0000\u0000\u0000\u0000\u0000\u0000\u0000\u0000\u0000\u0000\u0000\u0000\u0000\u0000\u0000\u0000",
                                    "Relationship to Focal Point": "澀媛ࣜ954101640splaced personиччна\u0000\u0000\u0000\u0000\u0000\u0000\u0000\u0000\u0000\u0000\u0000\u0000\u0000\u0000\u0000\u0000\u0000\u0000\u0000\u0000\u0000\u0000\u0000\u0000\u0000\u0000\u0000\u0000\u0000\u0000\u0000\u0000",
                                    "Duplicate phone number": "澀媛ࣜ954101640splaced personиччна\u0000\u0000\u0000\u0000\u0000\u0000\u0000\u0000\u0000\u0000\u0000\u0000\u0000\u0000\u0000\u0000\u0000\u0000\u0000\u0000\u0000\u0000\u0000\u0000\u0000\u0000\u0000\u0000\u0000\u0000\u0000\u0000",
                                    "Created On": "2024-10-15 12:31:55.000"
                                }
                            ]
                        },
                        "text/html": [
                            "<table>",
                            "<tr><th>Individual ID</th><th>Full Name</th><th>Registration Group ID</th><th>Legal Status</th><th>Age</th><th>Sex</th><th>Legacy ID</th><th>Relationship to Focal Point</th><th>Duplicate phone number</th><th>Created On</th></tr>",
                            "<tr><td>FC3-108095056</td><td>Дикань, Віктор Володимирович</td><td>FC3-24-3899315</td><td>Other of concern</td><td>68</td><td>Male</td><td>2051615474</td><td>Focal Point</td><td>+380502037338</td><td>2024-05-10 08:46:32.000</td></tr>",
                            "<tr><td>FC3-110790547</td><td>Дикань, Віктор Володимирович</td><td>FC3-24-4693880</td><td>Not of concern</td><td>68</td><td>Male</td><td>2051615474</td><td>Focal Point</td><td>+380502037338</td><td>2024-11-14 12:18:08.000</td></tr>",
                            "<tr><td>FC3-109587032</td><td>Рябошапка, Ганна Андріївна</td><td>FC3-24-4363751</td><td>Returned IDP</td><td>38</td><td>Female</td><td>3144901645</td><td>Focal Point</td><td>+380502779875</td><td>2024-08-21 12:52:36.000</td></tr>",
                            "<tr><td>FC3-110730279</td><td>Рябошапка, Олександр Миколайович</td><td>FC3-24-4682307</td><td>Other of concern</td><td>43</td><td>Male</td><td>2969604191</td><td>Focal Point</td><td>+380502779875</td><td>2024-11-11 16:05:27.000</td></tr>",
                            "<tr><td>FC3-102744271</td><td>Робейко, Василь Миколайович</td><td>FC3-23-2025439</td><td>Internally displaced person</td><td>74</td><td>Male</td><td>1832705194</td><td>Father</td><td>+380507781940</td><td>2023-07-21 16:17:14.000</td></tr>",
                            "<tr><td>FC3-110766496</td><td>Робейко, Вадим Васильович</td><td>FC3-23-2025439</td><td>Internally displaced person</td><td>52</td><td>Male</td><td>2642205157</td><td>Focal Point</td><td>+380507781940</td><td>2024-11-13 10:37:01.000</td></tr>",
                            "<tr><td>FC3-110728064</td><td>Малашина, Галина Миколаївна</td><td>FC3-24-4681716</td><td>Not of concern</td><td>68</td><td>Female</td><td>2051715824</td><td>Focal Point</td><td>+380508279961</td><td>2024-11-11 14:02:13.000</td></tr>",
                            "<tr><td>FC3-00120650</td><td>Малашина, Галина Миколаївна</td><td>FC3-22-69762</td><td>Internally displaced person</td><td>68</td><td>Female</td><td>2051715824</td><td>Focal Point</td><td>+380508279961</td><td>2022-11-29 13:35:48.000</td></tr>",
                            "<tr><td>FC3-108168752</td><td>Плуталова, Анжеліка Олексіївна</td><td>FC3-24-3926043</td><td>Internally displaced person</td><td>15</td><td>Female</td><td>3990304845</td><td>Daughter</td><td>+380509894544</td><td>2024-05-16 15:15:15.000</td></tr>",
                            "<tr><td>FC3-110747613</td><td>Пилипишина, Катерина Олексіївна</td><td>FC3-24-4685635</td><td>Internally displaced person</td><td>68</td><td>Female</td><td>2054523981</td><td>Focal Point</td><td>+380509894544</td><td>2024-11-12 12:59:29.000</td></tr>",
                            "<tr><td>1E1-00045274</td><td>Анісковець, Марина Валеріївна</td><td>1E1-22-18572</td><td>Internally displaced person</td><td>39</td><td>Female</td><td>3121013427</td><td>Focal Point</td><td>+380635612209</td><td>2022-04-06 22:15:33.000</td></tr>",
                            "<tr><td>FC3-110746390</td><td>Анісковець, Валентина Миколаївна</td><td>FC3-24-4685308</td><td>Returned IDP</td><td>73</td><td>Female</td><td>1858621765</td><td>Focal Point</td><td>+380635612209</td><td>2024-11-12 12:03:40.000</td></tr>",
                            "<tr><td>FC3-104448544</td><td>Ткаченко, Наталія Анатоліївна</td><td>FC3-23-2717169</td><td>Other of concern</td><td>66</td><td>Female</td><td>2137906966</td><td>Focal Point</td><td>+380660416178</td><td>2023-11-03 14:32:19.000</td></tr>",
                            "<tr><td>FC3-110813451</td><td>Фролова, Олена Олександрівна</td><td>FC3-24-4698404</td><td>Other of concern</td><td>43</td><td>Female</td><td>2977506647</td><td>Focal Point</td><td>+380660416178</td><td>2024-11-15 14:42:25.000</td></tr>",
                            "<tr><td>FC3-110811212</td><td>Ліхачова, Алла Петрівна</td><td>FC3-24-4697791</td><td>Not of concern</td><td>84</td><td>Female</td><td>1465704208</td><td>Grandmother</td><td>+380662115365</td><td>2024-11-15 12:10:03.000</td></tr>",
                            "<tr><td>FC3-110492287</td><td>Ліхачова, Алла Петрівна</td><td>FC3-24-4620133</td><td>Internally displaced person</td><td>84</td><td>Female</td><td>1465704208</td><td>Focal Point</td><td>+380662115365</td><td>2024-10-24 11:07:39.000</td></tr>",
                            "<tr><td>FC3-110746972</td><td>Бавда, Марія Михайлівна</td><td>FC3-24-4685471</td><td>Returned IDP</td><td>76</td><td>Female</td><td>1773420322</td><td>Focal Point</td><td>+380663019846</td><td>2024-11-12 12:28:59.000</td></tr>",
                            "<tr><td>FC3-00083526</td><td>Бавда, Володимир Володимирович</td><td>FC3-22-47380</td><td>Returned IDP</td><td>50</td><td>Male</td><td>2722701817</td><td>Focal Point</td><td>+380663019846</td><td>2022-11-09 14:54:59.000</td></tr>",
                            "<tr><td>FC3-106090794</td><td>Красуля, Світлана Федорівна</td><td>FC3-24-3285361</td><td>Other of concern</td><td>74</td><td>Female</td><td>1823228741</td><td>Focal Point</td><td>+380663055739</td><td>2024-01-26 15:07:44.000</td></tr>",
                            "<tr><td>FC3-110728568</td><td>Грищенко, Олена Олексіївна</td><td>FC3-24-4681874</td><td>Returned IDP</td><td>51</td><td>Female</td><td>2680204245</td><td>Focal Point</td><td>+380663055739</td><td>2024-11-11 14:30:56.000</td></tr>",
                            "<tr><td>FC3-109530634</td><td>Колесник, Тамара Михайлівна</td><td>FC3-24-4346875</td><td>Internally displaced person</td><td>62</td><td>Female</td><td>2278319684</td><td>Focal Point</td><td>+380666283327</td><td>2024-08-15 12:24:31.000</td></tr>",
                            "<tr><td>FC3-110792975</td><td>Сміян, Ігор Іванович</td><td>FC3-24-4694487</td><td>Internally displaced person</td><td>56</td><td>Male</td><td>2499900871</td><td>Focal Point</td><td>+380666283327</td><td>2024-11-14 14:48:00.000</td></tr>",
                            "<tr><td>FC3-110789378</td><td>Макаренко, Наталія Михайлівна</td><td>FC3-24-4693596</td><td>Returned IDP</td><td>62</td><td>Female</td><td>2284905303</td><td>Focal Point</td><td>+380667421839</td><td>2024-11-14 11:16:51.000</td></tr>",
                            "<tr><td>FC3-102854784</td><td>Неофітний, Михайло Васильович</td><td>FC3-23-2069550</td><td>Other of concern</td><td>87</td><td>Male</td><td>1380204598</td><td>Focal Point</td><td>+380667421839</td><td>2023-07-27 13:54:56.000</td></tr>",
                            "<tr><td>FC3-110385041</td><td>Шевченко, Ольга Григорівна</td><td>FC3-24-4592739</td><td>Internally displaced person</td><td>72</td><td>Female</td><td>1919622889</td><td>Focal Point</td><td>+380954101640</td><td>2024-10-15 12:31:55.000</td></tr>",
                            "<tr><td>澀媛ࣜ954101640splaced personиччна\u0000\u0000\u0000\u0000\u0000\u0000\u0000\u0000\u0000\u0000\u0000\u0000\u0000\u0000\u0000\u0000\u0000\u0000\u0000\u0000\u0000\u0000\u0000\u0000\u0000\u0000\u0000\u0000\u0000\u0000\u0000\u0000</td><td>澀媛ࣜ954101640splaced personиччна\u0000\u0000\u0000\u0000\u0000\u0000\u0000\u0000\u0000\u0000\u0000\u0000\u0000\u0000\u0000\u0000\u0000\u0000\u0000\u0000\u0000\u0000\u0000\u0000\u0000\u0000\u0000\u0000\u0000\u0000\u0000\u0000</td><td>澀媛ࣜ954101640splaced personиччна\u0000\u0000\u0000\u0000\u0000\u0000\u0000\u0000\u0000\u0000\u0000\u0000\u0000\u0000\u0000\u0000\u0000\u0000\u0000\u0000\u0000\u0000\u0000\u0000\u0000\u0000\u0000\u0000\u0000\u0000\u0000\u0000</td><td>澀媛ࣜ954101640splaced personиччна\u0000\u0000\u0000\u0000\u0000\u0000\u0000\u0000\u0000\u0000\u0000\u0000\u0000\u0000\u0000\u0000\u0000\u0000\u0000\u0000\u0000\u0000\u0000\u0000\u0000\u0000\u0000\u0000\u0000\u0000\u0000\u0000</td><td>1520136064</td><td>澀媛ࣜ954101640splaced personиччна\u0000\u0000\u0000\u0000\u0000\u0000\u0000\u0000\u0000\u0000\u0000\u0000\u0000\u0000\u0000\u0000\u0000\u0000\u0000\u0000\u0000\u0000\u0000\u0000\u0000\u0000\u0000\u0000\u0000\u0000\u0000\u0000</td><td>澀媛ࣜ954101640splaced personиччна\u0000\u0000\u0000\u0000\u0000\u0000\u0000\u0000\u0000\u0000\u0000\u0000\u0000\u0000\u0000\u0000\u0000\u0000\u0000\u0000\u0000\u0000\u0000\u0000\u0000\u0000\u0000\u0000\u0000\u0000\u0000\u0000</td><td>澀媛ࣜ954101640splaced personиччна\u0000\u0000\u0000\u0000\u0000\u0000\u0000\u0000\u0000\u0000\u0000\u0000\u0000\u0000\u0000\u0000\u0000\u0000\u0000\u0000\u0000\u0000\u0000\u0000\u0000\u0000\u0000\u0000\u0000\u0000\u0000\u0000</td><td>澀媛ࣜ954101640splaced personиччна\u0000\u0000\u0000\u0000\u0000\u0000\u0000\u0000\u0000\u0000\u0000\u0000\u0000\u0000\u0000\u0000\u0000\u0000\u0000\u0000\u0000\u0000\u0000\u0000\u0000\u0000\u0000\u0000\u0000\u0000\u0000\u0000</td><td>2024-10-15 12:31:55.000</td></tr>",
                            "</table>"
                        ]
                    }
                },
                {
                    "output_type": "execute_result",
                    "metadata": {},
                    "execution_count": 3,
                    "data": {
                        "application/vnd.dataresource+json": {
                            "schema": {
                                "fields": [
                                    {
                                        "name": "Reception ID"
                                    },
                                    {
                                        "name": "Group Size"
                                    },
                                    {
                                        "name": "Government Form Number"
                                    },
                                    {
                                        "name": "Reception Location"
                                    },
                                    {
                                        "name": "Registration Group ID"
                                    }
                                ]
                            },
                            "data": [
                                {
                                    "Reception ID": "22D-22-RCP-00369994",
                                    "Group Size": "1",
                                    "Government Form Number": "2259909353",
                                    "Reception Location": "Caritas",
                                    "Registration Group ID": "FC3-24-4685586"
                                },
                                {
                                    "Reception ID": "22D-22-RCP-00369998",
                                    "Group Size": "1",
                                    "Government Form Number": "2718217465",
                                    "Reception Location": "Caritas",
                                    "Registration Group ID": "FC3-24-4693641"
                                },
                                {
                                    "Reception ID": "FC3-23-RCP-100165900",
                                    "Group Size": "2",
                                    "Government Form Number": "2453701745",
                                    "Reception Location": "CARITAS",
                                    "Registration Group ID": "FC3-24-4684723"
                                },
                                {
                                    "Reception ID": "FC3-24-RCP-100653219",
                                    "Group Size": "1",
                                    "Government Form Number": "2315508098",
                                    "Reception Location": "Ministry of Reintegration Winter Cash 2024",
                                    "Registration Group ID": "FC3-24-4689991"
                                },
                                {
                                    "Reception ID": "FC3-24-RCP-100655513",
                                    "Group Size": "1",
                                    "Government Form Number": "1866508249",
                                    "Reception Location": "Ministry of Reintegration Winter Cash 2024",
                                    "Registration Group ID": "FC3-24-3307446"
                                },
                                {
                                    "Reception ID": "FC3-24-RCP-100656413",
                                    "Group Size": "2",
                                    "Government Form Number": "2676800752",
                                    "Reception Location": "Ministry of Reintegration Winter Cash 2024",
                                    "Registration Group ID": "FC3-24-4682362"
                                },
                                {
                                    "Reception ID": "FC3-24-RCP-100656869",
                                    "Group Size": "1",
                                    "Government Form Number": "1959401051",
                                    "Reception Location": "Ministry of Reintegration Winter Cash 2024",
                                    "Registration Group ID": "FC3-24-4686466"
                                },
                                {
                                    "Reception ID": "FC3-24-RCP-100657062",
                                    "Group Size": "2",
                                    "Government Form Number": "2478500860",
                                    "Reception Location": "Ministry of Reintegration Winter Cash 2024",
                                    "Registration Group ID": "FC3-24-4685626"
                                },
                                {
                                    "Reception ID": "FC3-24-RCP-100657140",
                                    "Group Size": "1",
                                    "Government Form Number": "2090401162",
                                    "Reception Location": "Ministry of Reintegration Winter Cash 2024",
                                    "Registration Group ID": "FC3-24-4690449"
                                },
                                {
                                    "Reception ID": "FC3-24-RCP-100657356",
                                    "Group Size": "2",
                                    "Government Form Number": "2045527546",
                                    "Reception Location": "Ministry of Reintegration Winter Cash 2024",
                                    "Registration Group ID": "FC3-24-4684976"
                                },
                                {
                                    "Reception ID": "FC3-24-RCP-100657969",
                                    "Group Size": "3",
                                    "Government Form Number": "3292117150",
                                    "Reception Location": "Ministry of Reintegration Winter Cash 2024",
                                    "Registration Group ID": "FC3-23-2381260"
                                },
                                {
                                    "Reception ID": "FC3-24-RCP-100659017",
                                    "Group Size": "1",
                                    "Government Form Number": "2383200713",
                                    "Reception Location": "Ministry of Reintegration Winter Cash 2024",
                                    "Registration Group ID": "FC3-24-4681965"
                                },
                                {
                                    "Reception ID": "FC3-24-RCP-100660343",
                                    "Group Size": "2",
                                    "Government Form Number": "3359205000",
                                    "Reception Location": "Ministry of Reintegration Winter Cash 2024",
                                    "Registration Group ID": "FC3-24-4690603"
                                },
                                {
                                    "Reception ID": "FC3-24-RCP-100662276",
                                    "Group Size": "1",
                                    "Government Form Number": "1941322507",
                                    "Reception Location": "Ministry of Reintegration Winter Cash 2024",
                                    "Registration Group ID": "FC3-24-4690266"
                                },
                                {
                                    "Reception ID": "FC3-24-RCP-100662439",
                                    "Group Size": "1",
                                    "Government Form Number": "2008950389",
                                    "Reception Location": "Ministry of Reintegration Winter Cash 2024",
                                    "Registration Group ID": "FC3-24-4685723"
                                },
                                {
                                    "Reception ID": "FC3-24-RCP-100667126",
                                    "Group Size": "1",
                                    "Government Form Number": "3444016079",
                                    "Reception Location": "Ministry of Reintegration Winter Cash 2024",
                                    "Registration Group ID": "FC3-24-4697810"
                                },
                                {
                                    "Reception ID": "FC3-24-RCP-100668134",
                                    "Group Size": "1",
                                    "Government Form Number": "2418509501",
                                    "Reception Location": "Ministry of Reintegration Winter Cash 2024",
                                    "Registration Group ID": "FC3-24-4693470"
                                },
                                {
                                    "Reception ID": "FC3-24-RCP-100720100",
                                    "Group Size": "2",
                                    "Government Form Number": "3143111865",
                                    "Reception Location": "Ministry of Reintegration Winter Cash 2024",
                                    "Registration Group ID": "FC3-24-4694183"
                                },
                                {
                                    "Reception ID": "FC3-24-RCP-100720120",
                                    "Group Size": "2",
                                    "Government Form Number": "1863729849",
                                    "Reception Location": "Ministry of Reintegration Winter Cash 2024",
                                    "Registration Group ID": "FC3-24-4697996"
                                },
                                {
                                    "Reception ID": "FC3-24-RCP-100720165",
                                    "Group Size": "4",
                                    "Government Form Number": "3163015175",
                                    "Reception Location": "Ministry of Reintegration Winter Cash 2024",
                                    "Registration Group ID": "FC3-23-30956"
                                },
                                {
                                    "Reception ID": "FC3-24-RCP-100720440",
                                    "Group Size": "1",
                                    "Government Form Number": "2136507143",
                                    "Reception Location": "Ministry of Reintegration Winter Cash 2024",
                                    "Registration Group ID": "FC3-24-4693230"
                                },
                                {
                                    "Reception ID": "FC3-24-RCP-100722269",
                                    "Group Size": "1",
                                    "Government Form Number": "3651504489",
                                    "Reception Location": "Ministry of Reintegration Winter Cash 2024",
                                    "Registration Group ID": "FC3-24-4690025"
                                },
                                {
                                    "Reception ID": "FC3-24-RCP-100725238",
                                    "Group Size": "3",
                                    "Government Form Number": "2799316645",
                                    "Reception Location": "Ministry of Reintegration Winter Cash 2024",
                                    "Registration Group ID": "FC3-24-4697157"
                                },
                                {
                                    "Reception ID": "FC3-24-RCP-100727983",
                                    "Group Size": "1",
                                    "Government Form Number": "3663406147",
                                    "Reception Location": "Ministry of Reintegration Winter Cash 2024",
                                    "Registration Group ID": "FC3-24-4693736"
                                },
                                {
                                    "Reception ID": "FC3-24-RCP-100736188",
                                    "Group Size": "2",
                                    "Government Form Number": "3194304760",
                                    "Reception Location": "Ministry of Reintegration Winter Cash 2024",
                                    "Registration Group ID": "FC3-24-4689854"
                                },
                                {
                                    "Reception ID": "FC3-24-RCP-100738557",
                                    "Group Size": "1",
                                    "Government Form Number": "2508121098",
                                    "Reception Location": "Ministry of Reintegration Winter Cash 2024",
                                    "Registration Group ID": "FC3-24-4680834"
                                },
                                {
                                    "Reception ID": "FC3-24-RCP-100738613",
                                    "Group Size": "1",
                                    "Government Form Number": "2426208155",
                                    "Reception Location": "Ministry of Reintegration Winter Cash 2024",
                                    "Registration Group ID": "FC3-24-4680181"
                                },
                                {
                                    "Reception ID": "FC3-24-RCP-100738630",
                                    "Group Size": "2",
                                    "Government Form Number": "2099222509",
                                    "Reception Location": "Ministry of Reintegration Winter Cash 2024",
                                    "Registration Group ID": "FC3-24-4680764"
                                },
                                {
                                    "Reception ID": "FC3-24-RCP-100738634",
                                    "Group Size": "1",
                                    "Government Form Number": "1577921744",
                                    "Reception Location": "Ministry of Reintegration Winter Cash 2024",
                                    "Registration Group ID": "FC3-24-4680899"
                                },
                                {
                                    "Reception ID": "FC3-24-RCP-100738638",
                                    "Group Size": "2",
                                    "Government Form Number": "2214110175",
                                    "Reception Location": "Ministry of Reintegration Winter Cash 2024",
                                    "Registration Group ID": "FC3-24-4680228"
                                },
                                {
                                    "Reception ID": "FC3-24-RCP-100738667",
                                    "Group Size": "1",
                                    "Government Form Number": "7808512043",
                                    "Reception Location": "Ministry of Reintegration Winter Cash 2024",
                                    "Registration Group ID": "FC3-24-4680718"
                                },
                                {
                                    "Reception ID": "FC3-24-RCP-100738689",
                                    "Group Size": "2",
                                    "Government Form Number": "2760804091",
                                    "Reception Location": "Ministry of Reintegration Winter Cash 2024",
                                    "Registration Group ID": "FC3-23-15449"
                                },
                                {
                                    "Reception ID": "FC3-24-RCP-100743312",
                                    "Group Size": "3",
                                    "Government Form Number": "2167212179",
                                    "Reception Location": "Ministry of Reintegration Winter Cash 2024",
                                    "Registration Group ID": "FC3-24-4681013"
                                },
                                {
                                    "Reception ID": "22D-22-RCP-00002874",
                                    "Group Size": "1",
                                    "Government Form Number": "1778412000",
                                    "Reception Location": "Ministry of Social Policy",
                                    "Registration Group ID": "FC3-24-4690621"
                                },
                                {
                                    "Reception ID": "22D-22-RCP-00009042",
                                    "Group Size": "1",
                                    "Government Form Number": "1895615007",
                                    "Reception Location": "Ministry of Social Policy",
                                    "Registration Group ID": "FC3-24-4693755"
                                },
                                {
                                    "Reception ID": "22D-22-RCP-00010104",
                                    "Group Size": "1",
                                    "Government Form Number": "1910102974",
                                    "Reception Location": "Ministry of Social Policy",
                                    "Registration Group ID": "FC3-24-4690138"
                                },
                                {
                                    "Reception ID": "22D-22-RCP-00010166",
                                    "Group Size": "1",
                                    "Government Form Number": "1910919007",
                                    "Reception Location": "Ministry of Social Policy",
                                    "Registration Group ID": "FC3-24-4684881"
                                },
                                {
                                    "Reception ID": "22D-22-RCP-00010371",
                                    "Group Size": "1",
                                    "Government Form Number": "1913919983",
                                    "Reception Location": "Ministry of Social Policy",
                                    "Registration Group ID": "FC3-24-4680652"
                                },
                                {
                                    "Reception ID": "22D-22-RCP-00012782",
                                    "Group Size": "1",
                                    "Government Form Number": "1946519555",
                                    "Reception Location": "Ministry of Social Policy",
                                    "Registration Group ID": "FC3-24-4693034"
                                },
                                {
                                    "Reception ID": "22D-22-RCP-00013133",
                                    "Group Size": "1",
                                    "Government Form Number": "1950907110",
                                    "Reception Location": "Ministry of Social Policy",
                                    "Registration Group ID": "FC3-24-4686652"
                                },
                                {
                                    "Reception ID": "22D-22-RCP-00015559",
                                    "Group Size": "1",
                                    "Government Form Number": "1980400772",
                                    "Reception Location": "Ministry of Social Policy",
                                    "Registration Group ID": "FC3-24-4685648"
                                },
                                {
                                    "Reception ID": "22D-22-RCP-00017474",
                                    "Group Size": "1",
                                    "Government Form Number": "2000423246",
                                    "Reception Location": "Ministry of Social Policy",
                                    "Registration Group ID": "FC3-24-4685541"
                                },
                                {
                                    "Reception ID": "22D-22-RCP-00017536",
                                    "Group Size": "1",
                                    "Government Form Number": "2001211730",
                                    "Reception Location": "Ministry of Social Policy",
                                    "Registration Group ID": "FC3-24-4684323"
                                },
                                {
                                    "Reception ID": "22D-22-RCP-00018248",
                                    "Group Size": "1",
                                    "Government Form Number": "2009223546",
                                    "Reception Location": "Ministry of Social Policy",
                                    "Registration Group ID": "FC3-24-4693125"
                                },
                                {
                                    "Reception ID": "22D-22-RCP-00023206",
                                    "Group Size": "1",
                                    "Government Form Number": "2056302524",
                                    "Reception Location": "Ministry of Social Policy",
                                    "Registration Group ID": "FC3-24-4693580"
                                },
                                {
                                    "Reception ID": "22D-22-RCP-00024598",
                                    "Group Size": "1",
                                    "Government Form Number": "2068600085",
                                    "Reception Location": "Ministry of Social Policy",
                                    "Registration Group ID": "FC3-24-4681541"
                                },
                                {
                                    "Reception ID": "22D-22-RCP-00027377",
                                    "Group Size": "1",
                                    "Government Form Number": "2091021963",
                                    "Reception Location": "Ministry of Social Policy",
                                    "Registration Group ID": "FC3-24-4687020"
                                },
                                {
                                    "Reception ID": "22D-22-RCP-00028504",
                                    "Group Size": "1",
                                    "Government Form Number": "2099222509",
                                    "Reception Location": "Ministry of Social Policy",
                                    "Registration Group ID": "FC3-24-4680764"
                                },
                                {
                                    "Reception ID": "22D-22-RCP-00030754",
                                    "Group Size": "1",
                                    "Government Form Number": "2115316129",
                                    "Reception Location": "Ministry of Social Policy",
                                    "Registration Group ID": "FC3-24-4697692"
                                },
                                {
                                    "Reception ID": "22D-22-RCP-00031941",
                                    "Group Size": "1",
                                    "Government Form Number": "2123006233",
                                    "Reception Location": "Ministry of Social Policy",
                                    "Registration Group ID": "FC3-24-4690063"
                                },
                                {
                                    "Reception ID": "22D-22-RCP-00033724",
                                    "Group Size": "1",
                                    "Government Form Number": "2134108808",
                                    "Reception Location": "Ministry of Social Policy",
                                    "Registration Group ID": "FC3-24-4697343"
                                },
                                {
                                    "Reception ID": "22D-22-RCP-00034429",
                                    "Group Size": "1",
                                    "Government Form Number": "2138810194",
                                    "Reception Location": "Ministry of Social Policy",
                                    "Registration Group ID": "FC3-24-4694596"
                                },
                                {
                                    "Reception ID": "22D-22-RCP-00034646",
                                    "Group Size": "1",
                                    "Government Form Number": "2140307248",
                                    "Reception Location": "Ministry of Social Policy",
                                    "Registration Group ID": "FC3-24-4693034"
                                },
                                {
                                    "Reception ID": "22D-22-RCP-00039155",
                                    "Group Size": "1",
                                    "Government Form Number": "2170505579",
                                    "Reception Location": "Ministry of Social Policy",
                                    "Registration Group ID": "FC3-24-4690830"
                                },
                                {
                                    "Reception ID": "22D-22-RCP-00039551",
                                    "Group Size": "1",
                                    "Government Form Number": "2172922603",
                                    "Reception Location": "Ministry of Social Policy",
                                    "Registration Group ID": "FC3-24-4693732"
                                },
                                {
                                    "Reception ID": "22D-22-RCP-00040499",
                                    "Group Size": "1",
                                    "Government Form Number": "2179510619",
                                    "Reception Location": "Ministry of Social Policy",
                                    "Registration Group ID": "FC3-24-4685308"
                                },
                                {
                                    "Reception ID": "22D-22-RCP-00041558",
                                    "Group Size": "1",
                                    "Government Form Number": "2187813845",
                                    "Reception Location": "Ministry of Social Policy",
                                    "Registration Group ID": "FC3-24-4684925"
                                },
                                {
                                    "Reception ID": "22D-22-RCP-00041971",
                                    "Group Size": "1",
                                    "Government Form Number": "2191308341",
                                    "Reception Location": "Ministry of Social Policy",
                                    "Registration Group ID": "FC3-24-4680926"
                                },
                                {
                                    "Reception ID": "22D-22-RCP-00042857",
                                    "Group Size": "1",
                                    "Government Form Number": "2197908447",
                                    "Reception Location": "Ministry of Social Policy",
                                    "Registration Group ID": "FC3-24-4689302"
                                },
                                {
                                    "Reception ID": "22D-22-RCP-00044723",
                                    "Group Size": "1",
                                    "Government Form Number": "2213106522",
                                    "Reception Location": "Ministry of Social Policy",
                                    "Registration Group ID": "FC3-24-4681446"
                                },
                                {
                                    "Reception ID": "22D-22-RCP-00044930",
                                    "Group Size": "1",
                                    "Government Form Number": "2214902037",
                                    "Reception Location": "Ministry of Social Policy",
                                    "Registration Group ID": "FC3-24-4680089"
                                },
                                {
                                    "Reception ID": "22D-22-RCP-00046002",
                                    "Group Size": "1",
                                    "Government Form Number": "2225703764",
                                    "Reception Location": "Ministry of Social Policy",
                                    "Registration Group ID": "FC3-24-4697379"
                                },
                                {
                                    "Reception ID": "22D-22-RCP-00046579",
                                    "Group Size": "1",
                                    "Government Form Number": "2231907540",
                                    "Reception Location": "Ministry of Social Policy",
                                    "Registration Group ID": "FC3-24-4689751"
                                },
                                {
                                    "Reception ID": "22D-22-RCP-00046614",
                                    "Group Size": "1",
                                    "Government Form Number": "2232328909",
                                    "Reception Location": "Ministry of Social Policy",
                                    "Registration Group ID": "FC3-24-4693746"
                                },
                                {
                                    "Reception ID": "22D-22-RCP-00047565",
                                    "Group Size": "1",
                                    "Government Form Number": "2242518567",
                                    "Reception Location": "Ministry of Social Policy",
                                    "Registration Group ID": "FC3-24-4684959"
                                },
                                {
                                    "Reception ID": "22D-22-RCP-00047875",
                                    "Group Size": "1",
                                    "Government Form Number": "2246301762",
                                    "Reception Location": "Ministry of Social Policy",
                                    "Registration Group ID": "FC3-24-4684492"
                                },
                                {
                                    "Reception ID": "22D-22-RCP-00048272",
                                    "Group Size": "1",
                                    "Government Form Number": "2251123642",
                                    "Reception Location": "Ministry of Social Policy",
                                    "Registration Group ID": "FC3-24-4686652"
                                },
                                {
                                    "Reception ID": "22D-22-RCP-00049412",
                                    "Group Size": "1",
                                    "Government Form Number": "2266018541",
                                    "Reception Location": "Ministry of Social Policy",
                                    "Registration Group ID": "FC3-24-4679728"
                                },
                                {
                                    "Reception ID": "22D-22-RCP-00051990",
                                    "Group Size": "1",
                                    "Government Form Number": "2310713036",
                                    "Reception Location": "Ministry of Social Policy",
                                    "Registration Group ID": "FC3-24-4698086"
                                },
                                {
                                    "Reception ID": "22D-22-RCP-00051996",
                                    "Group Size": "1",
                                    "Government Form Number": "2310817522",
                                    "Reception Location": "Ministry of Social Policy",
                                    "Registration Group ID": "FC3-24-4694055"
                                },
                                {
                                    "Reception ID": "22D-22-RCP-00052847",
                                    "Group Size": "1",
                                    "Government Form Number": "2327617283",
                                    "Reception Location": "Ministry of Social Policy",
                                    "Registration Group ID": "FC3-24-4689929"
                                },
                                {
                                    "Reception ID": "22D-22-RCP-00054232",
                                    "Group Size": "1",
                                    "Government Form Number": "2357012344",
                                    "Reception Location": "Ministry of Social Policy",
                                    "Registration Group ID": "FC3-24-4693139"
                                },
                                {
                                    "Reception ID": "22D-22-RCP-00056236",
                                    "Group Size": "1",
                                    "Government Form Number": "2406809118",
                                    "Reception Location": "Ministry of Social Policy",
                                    "Registration Group ID": "FC3-24-4681008"
                                },
                                {
                                    "Reception ID": "22D-22-RCP-00056319",
                                    "Group Size": "1",
                                    "Government Form Number": "2409310293",
                                    "Reception Location": "Ministry of Social Policy",
                                    "Registration Group ID": "FC3-24-4682153"
                                },
                                {
                                    "Reception ID": "22D-22-RCP-00056937",
                                    "Group Size": "1",
                                    "Government Form Number": "2425713886",
                                    "Reception Location": "Ministry of Social Policy",
                                    "Registration Group ID": "FC3-24-4690241"
                                },
                                {
                                    "Reception ID": "22D-22-RCP-00057773",
                                    "Group Size": "1",
                                    "Government Form Number": "2448900960",
                                    "Reception Location": "Ministry of Social Policy",
                                    "Registration Group ID": "FC3-24-4697070"
                                },
                                {
                                    "Reception ID": "22D-22-RCP-00057839",
                                    "Group Size": "1",
                                    "Government Form Number": "2450714766",
                                    "Reception Location": "Ministry of Social Policy",
                                    "Registration Group ID": "FC3-24-4694031"
                                },
                                {
                                    "Reception ID": "22D-22-RCP-00059247",
                                    "Group Size": "1",
                                    "Government Form Number": "2501004603",
                                    "Reception Location": "Ministry of Social Policy",
                                    "Registration Group ID": "FC3-24-4698196"
                                },
                                {
                                    "Reception ID": "22D-22-RCP-00060059",
                                    "Group Size": "1",
                                    "Government Form Number": "2533620288",
                                    "Reception Location": "Ministry of Social Policy",
                                    "Registration Group ID": "FC3-24-4681008"
                                },
                                {
                                    "Reception ID": "22D-22-RCP-00060981",
                                    "Group Size": "1",
                                    "Government Form Number": "2572503944",
                                    "Reception Location": "Ministry of Social Policy",
                                    "Registration Group ID": "FC3-24-4679852"
                                },
                                {
                                    "Reception ID": "22D-22-RCP-00061241",
                                    "Group Size": "1",
                                    "Government Form Number": "2581912721",
                                    "Reception Location": "Ministry of Social Policy",
                                    "Registration Group ID": "FC3-24-4697856"
                                },
                                {
                                    "Reception ID": "22D-22-RCP-00065430",
                                    "Group Size": "1",
                                    "Government Form Number": "2801818807",
                                    "Reception Location": "Ministry of Social Policy",
                                    "Registration Group ID": "FC3-24-4686058"
                                },
                                {
                                    "Reception ID": "22D-22-RCP-00068864",
                                    "Group Size": "1",
                                    "Government Form Number": "3003100345",
                                    "Reception Location": "Ministry of Social Policy",
                                    "Registration Group ID": "FC3-24-4698228"
                                },
                                {
                                    "Reception ID": "22D-22-RCP-00080508",
                                    "Group Size": "1",
                                    "Government Form Number": "1659308456",
                                    "Reception Location": "Ministry of Social Policy",
                                    "Registration Group ID": "FC3-24-4680766"
                                },
                                {
                                    "Reception ID": "22D-22-RCP-00081717",
                                    "Group Size": "1",
                                    "Government Form Number": "1711517904",
                                    "Reception Location": "Ministry of Social Policy",
                                    "Registration Group ID": "FC3-24-4689406"
                                },
                                {
                                    "Reception ID": "22D-22-RCP-00090220",
                                    "Group Size": "1",
                                    "Government Form Number": "1886717069",
                                    "Reception Location": "Ministry of Social Policy",
                                    "Registration Group ID": "FC3-24-4685712"
                                },
                                {
                                    "Reception ID": "22D-22-RCP-00092941",
                                    "Group Size": "1",
                                    "Government Form Number": "1923419273",
                                    "Reception Location": "Ministry of Social Policy",
                                    "Registration Group ID": "FC3-24-4690164"
                                },
                                {
                                    "Reception ID": "22D-22-RCP-00094911",
                                    "Group Size": "1",
                                    "Government Form Number": "1950110164",
                                    "Reception Location": "Ministry of Social Policy",
                                    "Registration Group ID": "FC3-24-4697317"
                                },
                                {
                                    "Reception ID": "22D-22-RCP-00095884",
                                    "Group Size": "1",
                                    "Government Form Number": "1962406881",
                                    "Reception Location": "Ministry of Social Policy",
                                    "Registration Group ID": "FC3-24-4682067"
                                },
                                {
                                    "Reception ID": "22D-22-RCP-00096182",
                                    "Group Size": "1",
                                    "Government Form Number": "1966215263",
                                    "Reception Location": "Ministry of Social Policy",
                                    "Registration Group ID": "FC3-24-4697885"
                                },
                                {
                                    "Reception ID": "22D-22-RCP-00099602",
                                    "Group Size": "1",
                                    "Government Form Number": "2004815223",
                                    "Reception Location": "Ministry of Social Policy",
                                    "Registration Group ID": "FC3-24-4681617"
                                },
                                {
                                    "Reception ID": "22D-22-RCP-00105541",
                                    "Group Size": "1",
                                    "Government Form Number": "2065709139",
                                    "Reception Location": "Ministry of Social Policy",
                                    "Registration Group ID": "FC3-24-4681541"
                                },
                                {
                                    "Reception ID": "22D-22-RCP-00107084",
                                    "Group Size": "1",
                                    "Government Form Number": "2080713242",
                                    "Reception Location": "Ministry of Social Policy",
                                    "Registration Group ID": "FC3-24-4698333"
                                },
                                {
                                    "Reception ID": "22D-22-RCP-00110877",
                                    "Group Size": "1",
                                    "Government Form Number": "2115415544",
                                    "Reception Location": "Ministry of Social Policy",
                                    "Registration Group ID": "FC3-24-4690511"
                                },
                                {
                                    "Reception ID": "22D-22-RCP-00113236",
                                    "Group Size": "1",
                                    "Government Form Number": "2135420886",
                                    "Reception Location": "Ministry of Social Policy",
                                    "Registration Group ID": "FC3-24-4684944"
                                },
                                {
                                    "Reception ID": "22D-22-RCP-00113400",
                                    "Group Size": "1",
                                    "Government Form Number": "2137020327",
                                    "Reception Location": "Ministry of Social Policy",
                                    "Registration Group ID": "FC3-24-4697815"
                                },
                                {
                                    "Reception ID": "22D-22-RCP-00115501",
                                    "Group Size": "1",
                                    "Government Form Number": "2155523218",
                                    "Reception Location": "Ministry of Social Policy",
                                    "Registration Group ID": "FC3-24-4681617"
                                },
                                {
                                    "Reception ID": "22D-22-RCP-00117069",
                                    "Group Size": "1",
                                    "Government Form Number": "2167808820",
                                    "Reception Location": "Ministry of Social Policy",
                                    "Registration Group ID": "FC3-24-4697938"
                                },
                                {
                                    "Reception ID": "22D-22-RCP-00122149",
                                    "Group Size": "1",
                                    "Government Form Number": "2210008943",
                                    "Reception Location": "Ministry of Social Policy",
                                    "Registration Group ID": "FC3-24-4693807"
                                },
                                {
                                    "Reception ID": "22D-22-RCP-00129653",
                                    "Group Size": "1",
                                    "Government Form Number": "2283305864",
                                    "Reception Location": "Ministry of Social Policy",
                                    "Registration Group ID": "FC3-24-4681277"
                                },
                                {
                                    "Reception ID": "22D-22-RCP-00216097",
                                    "Group Size": "1",
                                    "Government Form Number": "2053116289",
                                    "Reception Location": "Ministry of Social Policy",
                                    "Registration Group ID": "FC3-24-4697910"
                                },
                                {
                                    "Reception ID": "22D-22-RCP-00248209",
                                    "Group Size": "1",
                                    "Government Form Number": "2178304444",
                                    "Reception Location": "Ministry of Social Policy",
                                    "Registration Group ID": "FC3-24-4694078"
                                },
                                {
                                    "Reception ID": "22D-22-RCP-00248674",
                                    "Group Size": "1",
                                    "Government Form Number": "2180104653",
                                    "Reception Location": "Ministry of Social Policy",
                                    "Registration Group ID": "FC3-24-4693255"
                                },
                                {
                                    "Reception ID": "22D-22-RCP-00263456",
                                    "Group Size": "1",
                                    "Government Form Number": "2242914588",
                                    "Reception Location": "Ministry of Social Policy",
                                    "Registration Group ID": "FC3-24-4693255"
                                },
                                {
                                    "Reception ID": "22D-22-RCP-00297360",
                                    "Group Size": "1",
                                    "Government Form Number": "3244815309",
                                    "Reception Location": "Ministry of Social Policy",
                                    "Registration Group ID": "FC3-24-4697566"
                                },
                                {
                                    "Reception ID": "22D-22-RCP-00300314",
                                    "Group Size": "1",
                                    "Government Form Number": "1411812145",
                                    "Reception Location": "Ministry of Social Policy",
                                    "Registration Group ID": "FC3-24-4689589"
                                },
                                {
                                    "Reception ID": "22D-22-RCP-00313131",
                                    "Group Size": "1",
                                    "Government Form Number": "2301135544",
                                    "Reception Location": "Ministry of Social Policy",
                                    "Registration Group ID": "FC3-24-4697987"
                                },
                                {
                                    "Reception ID": "22D-22-RCP-00316056",
                                    "Group Size": "1",
                                    "Government Form Number": "2394014934",
                                    "Reception Location": "Ministry of Social Policy",
                                    "Registration Group ID": "FC3-24-4680751"
                                },
                                {
                                    "Reception ID": "22D-22-RCP-00317668",
                                    "Group Size": "1",
                                    "Government Form Number": "2445816600",
                                    "Reception Location": "Ministry of Social Policy",
                                    "Registration Group ID": "FC3-24-4697652"
                                },
                                {
                                    "Reception ID": "22D-22-RCP-00318397",
                                    "Group Size": "1",
                                    "Government Form Number": "2467605753",
                                    "Reception Location": "Ministry of Social Policy",
                                    "Registration Group ID": "FC3-24-4697652"
                                },
                                {
                                    "Reception ID": "22D-22-RCP-00323336",
                                    "Group Size": "1",
                                    "Government Form Number": "2619604957",
                                    "Reception Location": "Ministry of Social Policy",
                                    "Registration Group ID": "FC3-24-4693164"
                                },
                                {
                                    "Reception ID": "22D-22-RCP-00324784",
                                    "Group Size": "1",
                                    "Government Form Number": "2662118312",
                                    "Reception Location": "Ministry of Social Policy",
                                    "Registration Group ID": "FC3-24-4697412"
                                },
                                {
                                    "Reception ID": "22D-22-RCP-00324868",
                                    "Group Size": "1",
                                    "Government Form Number": "2664501507",
                                    "Reception Location": "Ministry of Social Policy",
                                    "Registration Group ID": "FC3-24-4694481"
                                },
                                {
                                    "Reception ID": "22D-22-RCP-00327760",
                                    "Group Size": "1",
                                    "Government Form Number": "2746120045",
                                    "Reception Location": "Ministry of Social Policy",
                                    "Registration Group ID": "D4E-22-10391"
                                },
                                {
                                    "Reception ID": "22D-22-RCP-00339653",
                                    "Group Size": "1",
                                    "Government Form Number": "3067900169",
                                    "Reception Location": "Ministry of Social Policy",
                                    "Registration Group ID": "FC3-24-4697412"
                                },
                                {
                                    "Reception ID": "22D-22-RCP-00339760",
                                    "Group Size": "1",
                                    "Government Form Number": "3070707024",
                                    "Reception Location": "Ministry of Social Policy",
                                    "Registration Group ID": "FC3-24-4684284"
                                },
                                {
                                    "Reception ID": "22D-22-RCP-00341816",
                                    "Group Size": "1",
                                    "Government Form Number": "3121017639",
                                    "Reception Location": "Ministry of Social Policy",
                                    "Registration Group ID": "FC3-24-4680339"
                                },
                                {
                                    "Reception ID": "22D-22-RCP-00348479",
                                    "Group Size": "2",
                                    "Government Form Number": "3273720785",
                                    "Reception Location": "Ministry of Social Policy",
                                    "Registration Group ID": "FC3-24-4681125"
                                },
                                {
                                    "Reception ID": "22D-22-RCP-00362561",
                                    "Group Size": "1",
                                    "Government Form Number": "3627409047",
                                    "Reception Location": "Ministry of Social Policy",
                                    "Registration Group ID": "FC3-24-4697684"
                                },
                                {
                                    "Reception ID": "22D-22-RCP-00365988",
                                    "Group Size": "1",
                                    "Government Form Number": "3745500758",
                                    "Reception Location": "Ministry of Social Policy",
                                    "Registration Group ID": "FC3-24-4693635"
                                },
                                {
                                    "Reception ID": "22D-22-RCP-00368740",
                                    "Group Size": "1",
                                    "Government Form Number": "3987008074",
                                    "Reception Location": "Ministry of Social Policy",
                                    "Registration Group ID": "FC3-24-4698228"
                                },
                                {
                                    "Reception ID": "FC3-23-RCP-00005510",
                                    "Group Size": "1",
                                    "Government Form Number": "3077019500",
                                    "Reception Location": "Ministry of Social Policy Kherson 2023",
                                    "Registration Group ID": "FC3-24-4684298"
                                },
                                {
                                    "Reception ID": "FC3-23-RCP-00010698",
                                    "Group Size": "1",
                                    "Government Form Number": "3422001040",
                                    "Reception Location": "Ministry of Social Policy Kherson 2023",
                                    "Registration Group ID": "FC3-24-4697856"
                                },
                                {
                                    "Reception ID": "FC3-23-RCP-100225887",
                                    "Group Size": "2",
                                    "Government Form Number": "1465800772",
                                    "Reception Location": "MPCW Kharkiv",
                                    "Registration Group ID": "FC3-24-4693586"
                                },
                                {
                                    "Reception ID": "FC3-23-RCP-100238844",
                                    "Group Size": "1",
                                    "Government Form Number": "1856811777",
                                    "Reception Location": "MPCW Kharkiv",
                                    "Registration Group ID": "FC3-24-4693133"
                                },
                                {
                                    "Reception ID": "FC3-23-RCP-100249769",
                                    "Group Size": "1",
                                    "Government Form Number": "2023800788",
                                    "Reception Location": "MPCW Kharkiv",
                                    "Registration Group ID": "FC3-24-4680226"
                                },
                                {
                                    "Reception ID": "FC3-23-RCP-100252405",
                                    "Group Size": "1",
                                    "Government Form Number": "2061709926",
                                    "Reception Location": "MPCW Kharkiv",
                                    "Registration Group ID": "FC3-24-4690804"
                                },
                                {
                                    "Reception ID": "FC3-23-RCP-100255238",
                                    "Group Size": "2",
                                    "Government Form Number": "2100517473",
                                    "Reception Location": "MPCW Kharkiv",
                                    "Registration Group ID": "FC3-24-4689247"
                                },
                                {
                                    "Reception ID": "FC3-23-RCP-100257321",
                                    "Group Size": "1",
                                    "Government Form Number": "2128024272",
                                    "Reception Location": "MPCW Kharkiv",
                                    "Registration Group ID": "FC3-24-4679985"
                                },
                                {
                                    "Reception ID": "FC3-23-RCP-100257966",
                                    "Group Size": "2",
                                    "Government Form Number": "2136700176",
                                    "Reception Location": "MPCW Kharkiv",
                                    "Registration Group ID": "FC3-24-4688856"
                                },
                                {
                                    "Reception ID": "FC3-23-RCP-100259410",
                                    "Group Size": "2",
                                    "Government Form Number": "2156515991",
                                    "Reception Location": "MPCW Kharkiv",
                                    "Registration Group ID": "FC3-24-4693863"
                                },
                                {
                                    "Reception ID": "FC3-23-RCP-100261260",
                                    "Group Size": "2",
                                    "Government Form Number": "2178600853",
                                    "Reception Location": "MPCW Kharkiv",
                                    "Registration Group ID": "FC3-24-4689144"
                                },
                                {
                                    "Reception ID": "FC3-23-RCP-100286333",
                                    "Group Size": "2",
                                    "Government Form Number": "2905504847",
                                    "Reception Location": "MPCW Kharkiv",
                                    "Registration Group ID": "FC3-24-4689997"
                                },
                                {
                                    "Reception ID": "FC3-23-RCP-100303964",
                                    "Group Size": "5",
                                    "Government Form Number": "3275015248",
                                    "Reception Location": "MPCW Kharkiv",
                                    "Registration Group ID": "FC3-24-4697422"
                                },
                                {
                                    "Reception ID": "FC3-23-RCP-100278257",
                                    "Group Size": "2",
                                    "Government Form Number": "2601819783",
                                    "Reception Location": "MPCW Kharkiv",
                                    "Registration Group ID": "FC3-24-4698408"
                                },
                                {
                                    "Reception ID": "FC3-23-RCP-100278347",
                                    "Group Size": "2",
                                    "Government Form Number": "2605500882",
                                    "Reception Location": "MPCW Kharkiv",
                                    "Registration Group ID": "FC3-24-4685466"
                                },
                                {
                                    "Reception ID": "FC3-23-RCP-100281494",
                                    "Group Size": "3",
                                    "Government Form Number": "2712810980",
                                    "Reception Location": "Pension Fund 2023",
                                    "Registration Group ID": "FC3-24-4697886"
                                },
                                {
                                    "Reception ID": "FC3-23-RCP-100283314",
                                    "Group Size": "1",
                                    "Government Form Number": "2787519682",
                                    "Reception Location": "Pension Fund 2023",
                                    "Registration Group ID": "FC3-24-4681508"
                                },
                                {
                                    "Reception ID": "FC3-23-RCP-100265457",
                                    "Group Size": "1",
                                    "Government Form Number": "2242715580",
                                    "Reception Location": "Pension Fund 2023",
                                    "Registration Group ID": "FC3-24-4693372"
                                },
                                {
                                    "Reception ID": "FC3-23-RCP-100251689",
                                    "Group Size": "1",
                                    "Government Form Number": "2051625500",
                                    "Reception Location": "Pension Fund 2023",
                                    "Registration Group ID": "FC3-24-4689440"
                                },
                                {
                                    "Reception ID": "FC3-23-RCP-100222949",
                                    "Group Size": "1",
                                    "Government Form Number": "1320310867",
                                    "Reception Location": "Pension Fund 2023",
                                    "Registration Group ID": "FC3-24-4688663"
                                },
                                {
                                    "Reception ID": "FC3-23-RCP-100240790",
                                    "Group Size": "1",
                                    "Government Form Number": "1889115707",
                                    "Reception Location": "Pension Fund 2023",
                                    "Registration Group ID": "FC3-24-4681136"
                                },
                                {
                                    "Reception ID": "FC3-23-RCP-100243633",
                                    "Group Size": "1",
                                    "Government Form Number": "1935109942",
                                    "Reception Location": "Pension Fund 2023",
                                    "Registration Group ID": "FC3-24-4685594"
                                },
                                {
                                    "Reception ID": "FC3-24-RCP-100496357",
                                    "Group Size": "1",
                                    "Government Form Number": "1632003443",
                                    "Reception Location": "Prykhystok 2024 February",
                                    "Registration Group ID": "FC3-24-4693076"
                                },
                                {
                                    "Reception ID": "FC3-24-RCP-100497156",
                                    "Group Size": "1",
                                    "Government Form Number": "2657806746",
                                    "Reception Location": "Prykhystok 2024 February",
                                    "Registration Group ID": "FC3-24-4694372"
                                },
                                {
                                    "Reception ID": "FC3-24-RCP-100411645",
                                    "Group Size": "1",
                                    "Government Form Number": "2784420303",
                                    "Reception Location": "Prykhystok 2024 January",
                                    "Registration Group ID": "FC3-24-4697122"
                                },
                                {
                                    "Reception ID": "FC3-24-RCP-100412831",
                                    "Group Size": "1",
                                    "Government Form Number": "2054535681",
                                    "Reception Location": "Prykhystok 2024 January",
                                    "Registration Group ID": "FC3-24-4693294"
                                },
                                {
                                    "Reception ID": "FC3-24-RCP-100414178",
                                    "Group Size": "1",
                                    "Government Form Number": "1653608605",
                                    "Reception Location": "Prykhystok 2024 January",
                                    "Registration Group ID": "FC3-24-4693368"
                                },
                                {
                                    "Reception ID": "FC3-24-RCP-100426185",
                                    "Group Size": "1",
                                    "Government Form Number": "2308200801",
                                    "Reception Location": "Prykhystok 2024 January",
                                    "Registration Group ID": "FC3-24-4693496"
                                },
                                {
                                    "Reception ID": "FC3-24-RCP-100429267",
                                    "Group Size": "1",
                                    "Government Form Number": "2891016297",
                                    "Reception Location": "Prykhystok 2024 January",
                                    "Registration Group ID": "FC3-24-4680033"
                                },
                                {
                                    "Reception ID": "FC3-24-RCP-100433676",
                                    "Group Size": "1",
                                    "Government Form Number": "2416813085",
                                    "Reception Location": "Prykhystok 2024 January",
                                    "Registration Group ID": "FC3-24-4679977"
                                },
                                {
                                    "Reception ID": "FC3-24-RCP-100434312",
                                    "Group Size": "1",
                                    "Government Form Number": "2152112863",
                                    "Reception Location": "Prykhystok 2024 January",
                                    "Registration Group ID": "FC3-24-4693389"
                                },
                                {
                                    "Reception ID": "FC3-24-46933894 Januaryyy Kherson 2",
                                    "Group Size": "4390982",
                                    "Government Form Number": "FC3-24-46933894 Januaryyy Kherson 2",
                                    "Reception Location": "FC3-24-46933894 Januaryyy Kherson 2",
                                    "Registration Group ID": "FC3-24-46933894 Januaryyy Kherson 2"
                                },
                                {
                                    "Reception ID": "FC3-24-RCP-100437059",
                                    "Group Size": "1",
                                    "Government Form Number": "2827005030",
                                    "Reception Location": "Prykhystok 2024 January",
                                    "Registration Group ID": "FC3-24-4685135"
                                },
                                {
                                    "Reception ID": "FC3-24-RCP-100444001",
                                    "Group Size": "1",
                                    "Government Form Number": "3124909498",
                                    "Reception Location": "Prykhystok 2024 January",
                                    "Registration Group ID": "FC3-24-4684798"
                                },
                                {
                                    "Reception ID": "FC3-24-RCP-100459180",
                                    "Group Size": "1",
                                    "Government Form Number": "3101808762",
                                    "Reception Location": "Prykhystok 2024 January",
                                    "Registration Group ID": "FC3-24-4694352"
                                },
                                {
                                    "Reception ID": "FC3-24-RCP-100462597",
                                    "Group Size": "1",
                                    "Government Form Number": "2159308815",
                                    "Reception Location": "Prykhystok 2024 January",
                                    "Registration Group ID": "FC3-24-4693512"
                                }
                            ]
                        },
                        "text/html": [
                            "<table>",
                            "<tr><th>Reception ID</th><th>Group Size</th><th>Government Form Number</th><th>Reception Location</th><th>Registration Group ID</th></tr>",
                            "<tr><td>22D-22-RCP-00369994</td><td>1</td><td>2259909353</td><td>Caritas</td><td>FC3-24-4685586</td></tr>",
                            "<tr><td>22D-22-RCP-00369998</td><td>1</td><td>2718217465</td><td>Caritas</td><td>FC3-24-4693641</td></tr>",
                            "<tr><td>FC3-23-RCP-100165900</td><td>2</td><td>2453701745</td><td>CARITAS</td><td>FC3-24-4684723</td></tr>",
                            "<tr><td>FC3-24-RCP-100653219</td><td>1</td><td>2315508098</td><td>Ministry of Reintegration Winter Cash 2024</td><td>FC3-24-4689991</td></tr>",
                            "<tr><td>FC3-24-RCP-100655513</td><td>1</td><td>1866508249</td><td>Ministry of Reintegration Winter Cash 2024</td><td>FC3-24-3307446</td></tr>",
                            "<tr><td>FC3-24-RCP-100656413</td><td>2</td><td>2676800752</td><td>Ministry of Reintegration Winter Cash 2024</td><td>FC3-24-4682362</td></tr>",
                            "<tr><td>FC3-24-RCP-100656869</td><td>1</td><td>1959401051</td><td>Ministry of Reintegration Winter Cash 2024</td><td>FC3-24-4686466</td></tr>",
                            "<tr><td>FC3-24-RCP-100657062</td><td>2</td><td>2478500860</td><td>Ministry of Reintegration Winter Cash 2024</td><td>FC3-24-4685626</td></tr>",
                            "<tr><td>FC3-24-RCP-100657140</td><td>1</td><td>2090401162</td><td>Ministry of Reintegration Winter Cash 2024</td><td>FC3-24-4690449</td></tr>",
                            "<tr><td>FC3-24-RCP-100657356</td><td>2</td><td>2045527546</td><td>Ministry of Reintegration Winter Cash 2024</td><td>FC3-24-4684976</td></tr>",
                            "<tr><td>FC3-24-RCP-100657969</td><td>3</td><td>3292117150</td><td>Ministry of Reintegration Winter Cash 2024</td><td>FC3-23-2381260</td></tr>",
                            "<tr><td>FC3-24-RCP-100659017</td><td>1</td><td>2383200713</td><td>Ministry of Reintegration Winter Cash 2024</td><td>FC3-24-4681965</td></tr>",
                            "<tr><td>FC3-24-RCP-100660343</td><td>2</td><td>3359205000</td><td>Ministry of Reintegration Winter Cash 2024</td><td>FC3-24-4690603</td></tr>",
                            "<tr><td>FC3-24-RCP-100662276</td><td>1</td><td>1941322507</td><td>Ministry of Reintegration Winter Cash 2024</td><td>FC3-24-4690266</td></tr>",
                            "<tr><td>FC3-24-RCP-100662439</td><td>1</td><td>2008950389</td><td>Ministry of Reintegration Winter Cash 2024</td><td>FC3-24-4685723</td></tr>",
                            "<tr><td>FC3-24-RCP-100667126</td><td>1</td><td>3444016079</td><td>Ministry of Reintegration Winter Cash 2024</td><td>FC3-24-4697810</td></tr>",
                            "<tr><td>FC3-24-RCP-100668134</td><td>1</td><td>2418509501</td><td>Ministry of Reintegration Winter Cash 2024</td><td>FC3-24-4693470</td></tr>",
                            "<tr><td>FC3-24-RCP-100720100</td><td>2</td><td>3143111865</td><td>Ministry of Reintegration Winter Cash 2024</td><td>FC3-24-4694183</td></tr>",
                            "<tr><td>FC3-24-RCP-100720120</td><td>2</td><td>1863729849</td><td>Ministry of Reintegration Winter Cash 2024</td><td>FC3-24-4697996</td></tr>",
                            "<tr><td>FC3-24-RCP-100720165</td><td>4</td><td>3163015175</td><td>Ministry of Reintegration Winter Cash 2024</td><td>FC3-23-30956</td></tr>",
                            "<tr><td>FC3-24-RCP-100720440</td><td>1</td><td>2136507143</td><td>Ministry of Reintegration Winter Cash 2024</td><td>FC3-24-4693230</td></tr>",
                            "<tr><td>FC3-24-RCP-100722269</td><td>1</td><td>3651504489</td><td>Ministry of Reintegration Winter Cash 2024</td><td>FC3-24-4690025</td></tr>",
                            "<tr><td>FC3-24-RCP-100725238</td><td>3</td><td>2799316645</td><td>Ministry of Reintegration Winter Cash 2024</td><td>FC3-24-4697157</td></tr>",
                            "<tr><td>FC3-24-RCP-100727983</td><td>1</td><td>3663406147</td><td>Ministry of Reintegration Winter Cash 2024</td><td>FC3-24-4693736</td></tr>",
                            "<tr><td>FC3-24-RCP-100736188</td><td>2</td><td>3194304760</td><td>Ministry of Reintegration Winter Cash 2024</td><td>FC3-24-4689854</td></tr>",
                            "<tr><td>FC3-24-RCP-100738557</td><td>1</td><td>2508121098</td><td>Ministry of Reintegration Winter Cash 2024</td><td>FC3-24-4680834</td></tr>",
                            "<tr><td>FC3-24-RCP-100738613</td><td>1</td><td>2426208155</td><td>Ministry of Reintegration Winter Cash 2024</td><td>FC3-24-4680181</td></tr>",
                            "<tr><td>FC3-24-RCP-100738630</td><td>2</td><td>2099222509</td><td>Ministry of Reintegration Winter Cash 2024</td><td>FC3-24-4680764</td></tr>",
                            "<tr><td>FC3-24-RCP-100738634</td><td>1</td><td>1577921744</td><td>Ministry of Reintegration Winter Cash 2024</td><td>FC3-24-4680899</td></tr>",
                            "<tr><td>FC3-24-RCP-100738638</td><td>2</td><td>2214110175</td><td>Ministry of Reintegration Winter Cash 2024</td><td>FC3-24-4680228</td></tr>",
                            "<tr><td>FC3-24-RCP-100738667</td><td>1</td><td>7808512043</td><td>Ministry of Reintegration Winter Cash 2024</td><td>FC3-24-4680718</td></tr>",
                            "<tr><td>FC3-24-RCP-100738689</td><td>2</td><td>2760804091</td><td>Ministry of Reintegration Winter Cash 2024</td><td>FC3-23-15449</td></tr>",
                            "<tr><td>FC3-24-RCP-100743312</td><td>3</td><td>2167212179</td><td>Ministry of Reintegration Winter Cash 2024</td><td>FC3-24-4681013</td></tr>",
                            "<tr><td>22D-22-RCP-00002874</td><td>1</td><td>1778412000</td><td>Ministry of Social Policy</td><td>FC3-24-4690621</td></tr>",
                            "<tr><td>22D-22-RCP-00009042</td><td>1</td><td>1895615007</td><td>Ministry of Social Policy</td><td>FC3-24-4693755</td></tr>",
                            "<tr><td>22D-22-RCP-00010104</td><td>1</td><td>1910102974</td><td>Ministry of Social Policy</td><td>FC3-24-4690138</td></tr>",
                            "<tr><td>22D-22-RCP-00010166</td><td>1</td><td>1910919007</td><td>Ministry of Social Policy</td><td>FC3-24-4684881</td></tr>",
                            "<tr><td>22D-22-RCP-00010371</td><td>1</td><td>1913919983</td><td>Ministry of Social Policy</td><td>FC3-24-4680652</td></tr>",
                            "<tr><td>22D-22-RCP-00012782</td><td>1</td><td>1946519555</td><td>Ministry of Social Policy</td><td>FC3-24-4693034</td></tr>",
                            "<tr><td>22D-22-RCP-00013133</td><td>1</td><td>1950907110</td><td>Ministry of Social Policy</td><td>FC3-24-4686652</td></tr>",
                            "<tr><td>22D-22-RCP-00015559</td><td>1</td><td>1980400772</td><td>Ministry of Social Policy</td><td>FC3-24-4685648</td></tr>",
                            "<tr><td>22D-22-RCP-00017474</td><td>1</td><td>2000423246</td><td>Ministry of Social Policy</td><td>FC3-24-4685541</td></tr>",
                            "<tr><td>22D-22-RCP-00017536</td><td>1</td><td>2001211730</td><td>Ministry of Social Policy</td><td>FC3-24-4684323</td></tr>",
                            "<tr><td>22D-22-RCP-00018248</td><td>1</td><td>2009223546</td><td>Ministry of Social Policy</td><td>FC3-24-4693125</td></tr>",
                            "<tr><td>22D-22-RCP-00023206</td><td>1</td><td>2056302524</td><td>Ministry of Social Policy</td><td>FC3-24-4693580</td></tr>",
                            "<tr><td>22D-22-RCP-00024598</td><td>1</td><td>2068600085</td><td>Ministry of Social Policy</td><td>FC3-24-4681541</td></tr>",
                            "<tr><td>22D-22-RCP-00027377</td><td>1</td><td>2091021963</td><td>Ministry of Social Policy</td><td>FC3-24-4687020</td></tr>",
                            "<tr><td>22D-22-RCP-00028504</td><td>1</td><td>2099222509</td><td>Ministry of Social Policy</td><td>FC3-24-4680764</td></tr>",
                            "<tr><td>22D-22-RCP-00030754</td><td>1</td><td>2115316129</td><td>Ministry of Social Policy</td><td>FC3-24-4697692</td></tr>",
                            "<tr><td>22D-22-RCP-00031941</td><td>1</td><td>2123006233</td><td>Ministry of Social Policy</td><td>FC3-24-4690063</td></tr>",
                            "<tr><td>22D-22-RCP-00033724</td><td>1</td><td>2134108808</td><td>Ministry of Social Policy</td><td>FC3-24-4697343</td></tr>",
                            "<tr><td>22D-22-RCP-00034429</td><td>1</td><td>2138810194</td><td>Ministry of Social Policy</td><td>FC3-24-4694596</td></tr>",
                            "<tr><td>22D-22-RCP-00034646</td><td>1</td><td>2140307248</td><td>Ministry of Social Policy</td><td>FC3-24-4693034</td></tr>",
                            "<tr><td>22D-22-RCP-00039155</td><td>1</td><td>2170505579</td><td>Ministry of Social Policy</td><td>FC3-24-4690830</td></tr>",
                            "<tr><td>22D-22-RCP-00039551</td><td>1</td><td>2172922603</td><td>Ministry of Social Policy</td><td>FC3-24-4693732</td></tr>",
                            "<tr><td>22D-22-RCP-00040499</td><td>1</td><td>2179510619</td><td>Ministry of Social Policy</td><td>FC3-24-4685308</td></tr>",
                            "<tr><td>22D-22-RCP-00041558</td><td>1</td><td>2187813845</td><td>Ministry of Social Policy</td><td>FC3-24-4684925</td></tr>",
                            "<tr><td>22D-22-RCP-00041971</td><td>1</td><td>2191308341</td><td>Ministry of Social Policy</td><td>FC3-24-4680926</td></tr>",
                            "<tr><td>22D-22-RCP-00042857</td><td>1</td><td>2197908447</td><td>Ministry of Social Policy</td><td>FC3-24-4689302</td></tr>",
                            "<tr><td>22D-22-RCP-00044723</td><td>1</td><td>2213106522</td><td>Ministry of Social Policy</td><td>FC3-24-4681446</td></tr>",
                            "<tr><td>22D-22-RCP-00044930</td><td>1</td><td>2214902037</td><td>Ministry of Social Policy</td><td>FC3-24-4680089</td></tr>",
                            "<tr><td>22D-22-RCP-00046002</td><td>1</td><td>2225703764</td><td>Ministry of Social Policy</td><td>FC3-24-4697379</td></tr>",
                            "<tr><td>22D-22-RCP-00046579</td><td>1</td><td>2231907540</td><td>Ministry of Social Policy</td><td>FC3-24-4689751</td></tr>",
                            "<tr><td>22D-22-RCP-00046614</td><td>1</td><td>2232328909</td><td>Ministry of Social Policy</td><td>FC3-24-4693746</td></tr>",
                            "<tr><td>22D-22-RCP-00047565</td><td>1</td><td>2242518567</td><td>Ministry of Social Policy</td><td>FC3-24-4684959</td></tr>",
                            "<tr><td>22D-22-RCP-00047875</td><td>1</td><td>2246301762</td><td>Ministry of Social Policy</td><td>FC3-24-4684492</td></tr>",
                            "<tr><td>22D-22-RCP-00048272</td><td>1</td><td>2251123642</td><td>Ministry of Social Policy</td><td>FC3-24-4686652</td></tr>",
                            "<tr><td>22D-22-RCP-00049412</td><td>1</td><td>2266018541</td><td>Ministry of Social Policy</td><td>FC3-24-4679728</td></tr>",
                            "<tr><td>22D-22-RCP-00051990</td><td>1</td><td>2310713036</td><td>Ministry of Social Policy</td><td>FC3-24-4698086</td></tr>",
                            "<tr><td>22D-22-RCP-00051996</td><td>1</td><td>2310817522</td><td>Ministry of Social Policy</td><td>FC3-24-4694055</td></tr>",
                            "<tr><td>22D-22-RCP-00052847</td><td>1</td><td>2327617283</td><td>Ministry of Social Policy</td><td>FC3-24-4689929</td></tr>",
                            "<tr><td>22D-22-RCP-00054232</td><td>1</td><td>2357012344</td><td>Ministry of Social Policy</td><td>FC3-24-4693139</td></tr>",
                            "<tr><td>22D-22-RCP-00056236</td><td>1</td><td>2406809118</td><td>Ministry of Social Policy</td><td>FC3-24-4681008</td></tr>",
                            "<tr><td>22D-22-RCP-00056319</td><td>1</td><td>2409310293</td><td>Ministry of Social Policy</td><td>FC3-24-4682153</td></tr>",
                            "<tr><td>22D-22-RCP-00056937</td><td>1</td><td>2425713886</td><td>Ministry of Social Policy</td><td>FC3-24-4690241</td></tr>",
                            "<tr><td>22D-22-RCP-00057773</td><td>1</td><td>2448900960</td><td>Ministry of Social Policy</td><td>FC3-24-4697070</td></tr>",
                            "<tr><td>22D-22-RCP-00057839</td><td>1</td><td>2450714766</td><td>Ministry of Social Policy</td><td>FC3-24-4694031</td></tr>",
                            "<tr><td>22D-22-RCP-00059247</td><td>1</td><td>2501004603</td><td>Ministry of Social Policy</td><td>FC3-24-4698196</td></tr>",
                            "<tr><td>22D-22-RCP-00060059</td><td>1</td><td>2533620288</td><td>Ministry of Social Policy</td><td>FC3-24-4681008</td></tr>",
                            "<tr><td>22D-22-RCP-00060981</td><td>1</td><td>2572503944</td><td>Ministry of Social Policy</td><td>FC3-24-4679852</td></tr>",
                            "<tr><td>22D-22-RCP-00061241</td><td>1</td><td>2581912721</td><td>Ministry of Social Policy</td><td>FC3-24-4697856</td></tr>",
                            "<tr><td>22D-22-RCP-00065430</td><td>1</td><td>2801818807</td><td>Ministry of Social Policy</td><td>FC3-24-4686058</td></tr>",
                            "<tr><td>22D-22-RCP-00068864</td><td>1</td><td>3003100345</td><td>Ministry of Social Policy</td><td>FC3-24-4698228</td></tr>",
                            "<tr><td>22D-22-RCP-00080508</td><td>1</td><td>1659308456</td><td>Ministry of Social Policy</td><td>FC3-24-4680766</td></tr>",
                            "<tr><td>22D-22-RCP-00081717</td><td>1</td><td>1711517904</td><td>Ministry of Social Policy</td><td>FC3-24-4689406</td></tr>",
                            "<tr><td>22D-22-RCP-00090220</td><td>1</td><td>1886717069</td><td>Ministry of Social Policy</td><td>FC3-24-4685712</td></tr>",
                            "<tr><td>22D-22-RCP-00092941</td><td>1</td><td>1923419273</td><td>Ministry of Social Policy</td><td>FC3-24-4690164</td></tr>",
                            "<tr><td>22D-22-RCP-00094911</td><td>1</td><td>1950110164</td><td>Ministry of Social Policy</td><td>FC3-24-4697317</td></tr>",
                            "<tr><td>22D-22-RCP-00095884</td><td>1</td><td>1962406881</td><td>Ministry of Social Policy</td><td>FC3-24-4682067</td></tr>",
                            "<tr><td>22D-22-RCP-00096182</td><td>1</td><td>1966215263</td><td>Ministry of Social Policy</td><td>FC3-24-4697885</td></tr>",
                            "<tr><td>22D-22-RCP-00099602</td><td>1</td><td>2004815223</td><td>Ministry of Social Policy</td><td>FC3-24-4681617</td></tr>",
                            "<tr><td>22D-22-RCP-00105541</td><td>1</td><td>2065709139</td><td>Ministry of Social Policy</td><td>FC3-24-4681541</td></tr>",
                            "<tr><td>22D-22-RCP-00107084</td><td>1</td><td>2080713242</td><td>Ministry of Social Policy</td><td>FC3-24-4698333</td></tr>",
                            "<tr><td>22D-22-RCP-00110877</td><td>1</td><td>2115415544</td><td>Ministry of Social Policy</td><td>FC3-24-4690511</td></tr>",
                            "<tr><td>22D-22-RCP-00113236</td><td>1</td><td>2135420886</td><td>Ministry of Social Policy</td><td>FC3-24-4684944</td></tr>",
                            "<tr><td>22D-22-RCP-00113400</td><td>1</td><td>2137020327</td><td>Ministry of Social Policy</td><td>FC3-24-4697815</td></tr>",
                            "<tr><td>22D-22-RCP-00115501</td><td>1</td><td>2155523218</td><td>Ministry of Social Policy</td><td>FC3-24-4681617</td></tr>",
                            "<tr><td>22D-22-RCP-00117069</td><td>1</td><td>2167808820</td><td>Ministry of Social Policy</td><td>FC3-24-4697938</td></tr>",
                            "<tr><td>22D-22-RCP-00122149</td><td>1</td><td>2210008943</td><td>Ministry of Social Policy</td><td>FC3-24-4693807</td></tr>",
                            "<tr><td>22D-22-RCP-00129653</td><td>1</td><td>2283305864</td><td>Ministry of Social Policy</td><td>FC3-24-4681277</td></tr>",
                            "<tr><td>22D-22-RCP-00216097</td><td>1</td><td>2053116289</td><td>Ministry of Social Policy</td><td>FC3-24-4697910</td></tr>",
                            "<tr><td>22D-22-RCP-00248209</td><td>1</td><td>2178304444</td><td>Ministry of Social Policy</td><td>FC3-24-4694078</td></tr>",
                            "<tr><td>22D-22-RCP-00248674</td><td>1</td><td>2180104653</td><td>Ministry of Social Policy</td><td>FC3-24-4693255</td></tr>",
                            "<tr><td>22D-22-RCP-00263456</td><td>1</td><td>2242914588</td><td>Ministry of Social Policy</td><td>FC3-24-4693255</td></tr>",
                            "<tr><td>22D-22-RCP-00297360</td><td>1</td><td>3244815309</td><td>Ministry of Social Policy</td><td>FC3-24-4697566</td></tr>",
                            "<tr><td>22D-22-RCP-00300314</td><td>1</td><td>1411812145</td><td>Ministry of Social Policy</td><td>FC3-24-4689589</td></tr>",
                            "<tr><td>22D-22-RCP-00313131</td><td>1</td><td>2301135544</td><td>Ministry of Social Policy</td><td>FC3-24-4697987</td></tr>",
                            "<tr><td>22D-22-RCP-00316056</td><td>1</td><td>2394014934</td><td>Ministry of Social Policy</td><td>FC3-24-4680751</td></tr>",
                            "<tr><td>22D-22-RCP-00317668</td><td>1</td><td>2445816600</td><td>Ministry of Social Policy</td><td>FC3-24-4697652</td></tr>",
                            "<tr><td>22D-22-RCP-00318397</td><td>1</td><td>2467605753</td><td>Ministry of Social Policy</td><td>FC3-24-4697652</td></tr>",
                            "<tr><td>22D-22-RCP-00323336</td><td>1</td><td>2619604957</td><td>Ministry of Social Policy</td><td>FC3-24-4693164</td></tr>",
                            "<tr><td>22D-22-RCP-00324784</td><td>1</td><td>2662118312</td><td>Ministry of Social Policy</td><td>FC3-24-4697412</td></tr>",
                            "<tr><td>22D-22-RCP-00324868</td><td>1</td><td>2664501507</td><td>Ministry of Social Policy</td><td>FC3-24-4694481</td></tr>",
                            "<tr><td>22D-22-RCP-00327760</td><td>1</td><td>2746120045</td><td>Ministry of Social Policy</td><td>D4E-22-10391</td></tr>",
                            "<tr><td>22D-22-RCP-00339653</td><td>1</td><td>3067900169</td><td>Ministry of Social Policy</td><td>FC3-24-4697412</td></tr>",
                            "<tr><td>22D-22-RCP-00339760</td><td>1</td><td>3070707024</td><td>Ministry of Social Policy</td><td>FC3-24-4684284</td></tr>",
                            "<tr><td>22D-22-RCP-00341816</td><td>1</td><td>3121017639</td><td>Ministry of Social Policy</td><td>FC3-24-4680339</td></tr>",
                            "<tr><td>22D-22-RCP-00348479</td><td>2</td><td>3273720785</td><td>Ministry of Social Policy</td><td>FC3-24-4681125</td></tr>",
                            "<tr><td>22D-22-RCP-00362561</td><td>1</td><td>3627409047</td><td>Ministry of Social Policy</td><td>FC3-24-4697684</td></tr>",
                            "<tr><td>22D-22-RCP-00365988</td><td>1</td><td>3745500758</td><td>Ministry of Social Policy</td><td>FC3-24-4693635</td></tr>",
                            "<tr><td>22D-22-RCP-00368740</td><td>1</td><td>3987008074</td><td>Ministry of Social Policy</td><td>FC3-24-4698228</td></tr>",
                            "<tr><td>FC3-23-RCP-00005510</td><td>1</td><td>3077019500</td><td>Ministry of Social Policy Kherson 2023</td><td>FC3-24-4684298</td></tr>",
                            "<tr><td>FC3-23-RCP-00010698</td><td>1</td><td>3422001040</td><td>Ministry of Social Policy Kherson 2023</td><td>FC3-24-4697856</td></tr>",
                            "<tr><td>FC3-23-RCP-100225887</td><td>2</td><td>1465800772</td><td>MPCW Kharkiv</td><td>FC3-24-4693586</td></tr>",
                            "<tr><td>FC3-23-RCP-100238844</td><td>1</td><td>1856811777</td><td>MPCW Kharkiv</td><td>FC3-24-4693133</td></tr>",
                            "<tr><td>FC3-23-RCP-100249769</td><td>1</td><td>2023800788</td><td>MPCW Kharkiv</td><td>FC3-24-4680226</td></tr>",
                            "<tr><td>FC3-23-RCP-100252405</td><td>1</td><td>2061709926</td><td>MPCW Kharkiv</td><td>FC3-24-4690804</td></tr>",
                            "<tr><td>FC3-23-RCP-100255238</td><td>2</td><td>2100517473</td><td>MPCW Kharkiv</td><td>FC3-24-4689247</td></tr>",
                            "<tr><td>FC3-23-RCP-100257321</td><td>1</td><td>2128024272</td><td>MPCW Kharkiv</td><td>FC3-24-4679985</td></tr>",
                            "<tr><td>FC3-23-RCP-100257966</td><td>2</td><td>2136700176</td><td>MPCW Kharkiv</td><td>FC3-24-4688856</td></tr>",
                            "<tr><td>FC3-23-RCP-100259410</td><td>2</td><td>2156515991</td><td>MPCW Kharkiv</td><td>FC3-24-4693863</td></tr>",
                            "<tr><td>FC3-23-RCP-100261260</td><td>2</td><td>2178600853</td><td>MPCW Kharkiv</td><td>FC3-24-4689144</td></tr>",
                            "<tr><td>FC3-23-RCP-100286333</td><td>2</td><td>2905504847</td><td>MPCW Kharkiv</td><td>FC3-24-4689997</td></tr>",
                            "<tr><td>FC3-23-RCP-100303964</td><td>5</td><td>3275015248</td><td>MPCW Kharkiv</td><td>FC3-24-4697422</td></tr>",
                            "<tr><td>FC3-23-RCP-100278257</td><td>2</td><td>2601819783</td><td>MPCW Kharkiv</td><td>FC3-24-4698408</td></tr>",
                            "<tr><td>FC3-23-RCP-100278347</td><td>2</td><td>2605500882</td><td>MPCW Kharkiv</td><td>FC3-24-4685466</td></tr>",
                            "<tr><td>FC3-23-RCP-100281494</td><td>3</td><td>2712810980</td><td>Pension Fund 2023</td><td>FC3-24-4697886</td></tr>",
                            "<tr><td>FC3-23-RCP-100283314</td><td>1</td><td>2787519682</td><td>Pension Fund 2023</td><td>FC3-24-4681508</td></tr>",
                            "<tr><td>FC3-23-RCP-100265457</td><td>1</td><td>2242715580</td><td>Pension Fund 2023</td><td>FC3-24-4693372</td></tr>",
                            "<tr><td>FC3-23-RCP-100251689</td><td>1</td><td>2051625500</td><td>Pension Fund 2023</td><td>FC3-24-4689440</td></tr>",
                            "<tr><td>FC3-23-RCP-100222949</td><td>1</td><td>1320310867</td><td>Pension Fund 2023</td><td>FC3-24-4688663</td></tr>",
                            "<tr><td>FC3-23-RCP-100240790</td><td>1</td><td>1889115707</td><td>Pension Fund 2023</td><td>FC3-24-4681136</td></tr>",
                            "<tr><td>FC3-23-RCP-100243633</td><td>1</td><td>1935109942</td><td>Pension Fund 2023</td><td>FC3-24-4685594</td></tr>",
                            "<tr><td>FC3-24-RCP-100496357</td><td>1</td><td>1632003443</td><td>Prykhystok 2024 February</td><td>FC3-24-4693076</td></tr>",
                            "<tr><td>FC3-24-RCP-100497156</td><td>1</td><td>2657806746</td><td>Prykhystok 2024 February</td><td>FC3-24-4694372</td></tr>",
                            "<tr><td>FC3-24-RCP-100411645</td><td>1</td><td>2784420303</td><td>Prykhystok 2024 January</td><td>FC3-24-4697122</td></tr>",
                            "<tr><td>FC3-24-RCP-100412831</td><td>1</td><td>2054535681</td><td>Prykhystok 2024 January</td><td>FC3-24-4693294</td></tr>",
                            "<tr><td>FC3-24-RCP-100414178</td><td>1</td><td>1653608605</td><td>Prykhystok 2024 January</td><td>FC3-24-4693368</td></tr>",
                            "<tr><td>FC3-24-RCP-100426185</td><td>1</td><td>2308200801</td><td>Prykhystok 2024 January</td><td>FC3-24-4693496</td></tr>",
                            "<tr><td>FC3-24-RCP-100429267</td><td>1</td><td>2891016297</td><td>Prykhystok 2024 January</td><td>FC3-24-4680033</td></tr>",
                            "<tr><td>FC3-24-RCP-100433676</td><td>1</td><td>2416813085</td><td>Prykhystok 2024 January</td><td>FC3-24-4679977</td></tr>",
                            "<tr><td>FC3-24-RCP-100434312</td><td>1</td><td>2152112863</td><td>Prykhystok 2024 January</td><td>FC3-24-4693389</td></tr>",
                            "<tr><td>FC3-24-46933894 Januaryyy Kherson 2</td><td>4390982</td><td>FC3-24-46933894 Januaryyy Kherson 2</td><td>FC3-24-46933894 Januaryyy Kherson 2</td><td>FC3-24-46933894 Januaryyy Kherson 2</td></tr>",
                            "<tr><td>FC3-24-RCP-100437059</td><td>1</td><td>2827005030</td><td>Prykhystok 2024 January</td><td>FC3-24-4685135</td></tr>",
                            "<tr><td>FC3-24-RCP-100444001</td><td>1</td><td>3124909498</td><td>Prykhystok 2024 January</td><td>FC3-24-4684798</td></tr>",
                            "<tr><td>FC3-24-RCP-100459180</td><td>1</td><td>3101808762</td><td>Prykhystok 2024 January</td><td>FC3-24-4694352</td></tr>",
                            "<tr><td>FC3-24-RCP-100462597</td><td>1</td><td>2159308815</td><td>Prykhystok 2024 January</td><td>FC3-24-4693512</td></tr>",
                            "</table>"
                        ]
                    }
                },
                {
                    "output_type": "execute_result",
                    "metadata": {},
                    "execution_count": 3,
                    "data": {
                        "application/vnd.dataresource+json": {
                            "schema": {
                                "fields": [
                                    {
                                        "name": "Individual ID"
                                    },
                                    {
                                        "name": "Registration Group ID"
                                    },
                                    {
                                        "name": "Legal Status"
                                    },
                                    {
                                        "name": "Arrival date"
                                    },
                                    {
                                        "name": "Created on"
                                    },
                                    {
                                        "name": "Difference in days is greater than 180"
                                    }
                                ]
                            },
                            "data": []
                        },
                        "text/html": [
                            "<table>",
                            "<tr><th>Individual ID</th><th>Registration Group ID</th><th>Legal Status</th><th>Arrival date</th><th>Created on</th><th>Difference in days is greater than 180</th></tr>",
                            "</table>"
                        ]
                    }
                },
                {
                    "output_type": "execute_result",
                    "metadata": {},
                    "execution_count": 3,
                    "data": {
                        "application/vnd.dataresource+json": {
                            "schema": {
                                "fields": [
                                    {
                                        "name": "Individual"
                                    },
                                    {
                                        "name": "Full name"
                                    },
                                    {
                                        "name": "Date of birth"
                                    },
                                    {
                                        "name": "Legal Status"
                                    },
                                    {
                                        "name": "Document category"
                                    },
                                    {
                                        "name": "Document type"
                                    },
                                    {
                                        "name": "Document sub type"
                                    },
                                    {
                                        "name": "Number-Duplicate"
                                    },
                                    {
                                        "name": "Date of issue"
                                    },
                                    {
                                        "name": "Date of expiry"
                                    },
                                    {
                                        "name": "Is original"
                                    },
                                    {
                                        "name": "Is official"
                                    },
                                    {
                                        "name": "Original seen"
                                    },
                                    {
                                        "name": "Created on"
                                    }
                                ]
                            },
                            "data": [
                                {
                                    "Individual": "FC3-110492287",
                                    "Full name": "Ліхачова, Алла Петрівна",
                                    "Date of birth": "1940-02-17",
                                    "Legal Status": "Internally displaced person",
                                    "Document category": "Tax Documentation",
                                    "Document type": "Tax Registration Document",
                                    "Document sub type": "NULL",
                                    "Number-Duplicate": "1465704208",
                                    "Date of issue": "2014-10-08",
                                    "Date of expiry": "NULL",
                                    "Is original": "Yes",
                                    "Is official": "Yes",
                                    "Original seen": "Yes",
                                    "Created on": "2024-10-24 11:09:41.000"
                                },
                                {
                                    "Individual": "FC3-110811212",
                                    "Full name": "Ліхачова, Алла Петрівна",
                                    "Date of birth": "1940-02-17",
                                    "Legal Status": "Not of concern",
                                    "Document category": "Tax Documentation",
                                    "Document type": "Tax Registration Document",
                                    "Document sub type": "NULL",
                                    "Number-Duplicate": "1465704208",
                                    "Date of issue": "2014-10-08",
                                    "Date of expiry": "NULL",
                                    "Is original": "Yes",
                                    "Is official": "Yes",
                                    "Original seen": "Yes",
                                    "Created on": "2024-11-15 12:12:02.000"
                                },
                                {
                                    "Individual": "FC3-110790547",
                                    "Full name": "Дикань, Віктор Володимирович",
                                    "Date of birth": "1956-03-03",
                                    "Legal Status": "Not of concern",
                                    "Document category": "Tax Documentation",
                                    "Document type": "Tax Registration Document",
                                    "Document sub type": "NULL",
                                    "Number-Duplicate": "2051615474",
                                    "Date of issue": "2000-06-06",
                                    "Date of expiry": "NULL",
                                    "Is original": "Yes",
                                    "Is official": "Yes",
                                    "Original seen": "Yes",
                                    "Created on": "2024-11-14 12:20:37.000"
                                },
                                {
                                    "Individual": "FC3-108095056",
                                    "Full name": "Дикань, Віктор Володимирович",
                                    "Date of birth": "1956-03-03",
                                    "Legal Status": "Other of concern",
                                    "Document category": "Tax Documentation",
                                    "Document type": "Tax Registration Document",
                                    "Document sub type": "NULL",
                                    "Number-Duplicate": "2051615474",
                                    "Date of issue": "2000-06-06",
                                    "Date of expiry": "NULL",
                                    "Is original": "Yes",
                                    "Is official": "Yes",
                                    "Original seen": "Yes",
                                    "Created on": "2024-05-10 08:48:31.000"
                                },
                                {
                                    "Individual": "FC3-110728064",
                                    "Full name": "Малашина, Галина Миколаївна",
                                    "Date of birth": "1956-03-04",
                                    "Legal Status": "Not of concern",
                                    "Document category": "Tax Documentation",
                                    "Document type": "Tax Registration Document",
                                    "Document sub type": "NULL",
                                    "Number-Duplicate": "2051715824",
                                    "Date of issue": "NULL",
                                    "Date of expiry": "NULL",
                                    "Is original": "Yes",
                                    "Is official": "Yes",
                                    "Original seen": "Yes",
                                    "Created on": "2024-11-11 14:04:21.000"
                                },
                                {
                                    "Individual": "FC3-00120650",
                                    "Full name": "Малашина, Галина Миколаївна",
                                    "Date of birth": "1956-03-04",
                                    "Legal Status": "Internally displaced person",
                                    "Document category": "Tax Documentation",
                                    "Document type": "Tax Registration Document",
                                    "Document sub type": "NULL",
                                    "Number-Duplicate": "2051715824",
                                    "Date of issue": "2008-05-12",
                                    "Date of expiry": "NULL",
                                    "Is original": "Yes",
                                    "Is official": "Yes",
                                    "Original seen": "Yes",
                                    "Created on": "2022-11-29 13:38:14.000"
                                },
                                {
                                    "Individual": "FC3-110789828",
                                    "Full name": "Цимбал, Сергій Леонідович",
                                    "Date of birth": "1984-09-18",
                                    "Legal Status": "Other of concern",
                                    "Document category": "Travel Documentation",
                                    "Document type": "National passport",
                                    "Document sub type": "NULL",
                                    "Number-Duplicate": "АН982898",
                                    "Date of issue": "2000-10-03",
                                    "Date of expiry": "NULL",
                                    "Is original": "Yes",
                                    "Is official": "Yes",
                                    "Original seen": "Yes",
                                    "Created on": "2024-11-14 11:38:10.000"
                                },
                                {
                                    "Individual": "FC3-107712784",
                                    "Full name": "Амосов, Євген Михайлович",
                                    "Date of birth": "1962-06-25",
                                    "Legal Status": "Internally displaced person",
                                    "Document category": "Travel Documentation",
                                    "Document type": "National passport",
                                    "Document sub type": "NULL",
                                    "Number-Duplicate": "АН982898",
                                    "Date of issue": "2011-09-16",
                                    "Date of expiry": "NULL",
                                    "Is original": "Yes",
                                    "Is official": "Yes",
                                    "Original seen": "Yes",
                                    "Created on": "2024-04-11 11:49:56.000"
                                },
                                {
                                    "Individual": "FC3-00195494",
                                    "Full name": "Гога, Сергій Іванович",
                                    "Date of birth": "1974-03-26",
                                    "Legal Status": "Internally displaced person",
                                    "Document category": "Travel Documentation",
                                    "Document type": "National passport",
                                    "Document sub type": "NULL",
                                    "Number-Duplicate": "АО123779",
                                    "Date of issue": "2013-07-12",
                                    "Date of expiry": "NULL",
                                    "Is original": "Yes",
                                    "Is official": "Yes",
                                    "Original seen": "Yes",
                                    "Created on": "2023-02-27 12:13:03.000"
                                },
                                {
                                    "Individual": "FC3-110791382",
                                    "Full name": "Гога, Сергій Іванович",
                                    "Date of birth": "1974-02-26",
                                    "Legal Status": "Other of concern",
                                    "Document category": "Travel Documentation",
                                    "Document type": "National passport",
                                    "Document sub type": "NULL",
                                    "Number-Duplicate": "АО123779",
                                    "Date of issue": "2013-07-12",
                                    "Date of expiry": "NULL",
                                    "Is original": "Yes",
                                    "Is official": "Yes",
                                    "Original seen": "Yes",
                                    "Created on": "2024-11-14 13:11:29.000"
                                },
                                {
                                    "Individual": "FC3-110206853",
                                    "Full name": "Атаманцева, Анастасія Іванівна",
                                    "Date of birth": "1946-07-24",
                                    "Legal Status": "Internally displaced person",
                                    "Document category": "Travel Documentation",
                                    "Document type": "National passport",
                                    "Document sub type": "NULL",
                                    "Number-Duplicate": "ВА805314",
                                    "Date of issue": "1997-08-15",
                                    "Date of expiry": "NULL",
                                    "Is original": "Yes",
                                    "Is official": "Yes",
                                    "Original seen": "Yes",
                                    "Created on": "2024-10-02 12:28:10.000"
                                },
                                {
                                    "Individual": "FC3-110811636",
                                    "Full name": "Чуприна, Віра Халимонівна",
                                    "Date of birth": "1931-01-21",
                                    "Legal Status": "Internally displaced person",
                                    "Document category": "Travel Documentation",
                                    "Document type": "National passport",
                                    "Document sub type": "NULL",
                                    "Number-Duplicate": "ВА805314",
                                    "Date of issue": "1997-07-16",
                                    "Date of expiry": "NULL",
                                    "Is original": "Yes",
                                    "Is official": "Yes",
                                    "Original seen": "Yes",
                                    "Created on": "2024-11-15 12:41:37.000"
                                },
                                {
                                    "Individual": "FC3-110492287",
                                    "Full name": "Ліхачова, Алла Петрівна",
                                    "Date of birth": "1940-02-17",
                                    "Legal Status": "Internally displaced person",
                                    "Document category": "Travel Documentation",
                                    "Document type": "National passport",
                                    "Document sub type": "NULL",
                                    "Number-Duplicate": "ВВ330601",
                                    "Date of issue": "1998-04-07",
                                    "Date of expiry": "NULL",
                                    "Is original": "Yes",
                                    "Is official": "Yes",
                                    "Original seen": "Yes",
                                    "Created on": "2024-10-24 11:10:13.000"
                                },
                                {
                                    "Individual": "FC3-110811212",
                                    "Full name": "Ліхачова, Алла Петрівна",
                                    "Date of birth": "1940-02-17",
                                    "Legal Status": "Not of concern",
                                    "Document category": "Travel Documentation",
                                    "Document type": "National passport",
                                    "Document sub type": "NULL",
                                    "Number-Duplicate": "ВВ330601",
                                    "Date of issue": "1998-04-07",
                                    "Date of expiry": "NULL",
                                    "Is original": "Yes",
                                    "Is official": "Yes",
                                    "Original seen": "Yes",
                                    "Created on": "2024-11-15 12:11:35.000"
                                },
                                {
                                    "Individual": "FC3-110728064",
                                    "Full name": "Малашина, Галина Миколаївна",
                                    "Date of birth": "1956-03-04",
                                    "Legal Status": "Not of concern",
                                    "Document category": "Travel Documentation",
                                    "Document type": "National passport",
                                    "Document sub type": "NULL",
                                    "Number-Duplicate": "ВС728636",
                                    "Date of issue": "2000-12-22",
                                    "Date of expiry": "NULL",
                                    "Is original": "Yes",
                                    "Is official": "Yes",
                                    "Original seen": "Yes",
                                    "Created on": "2024-11-11 14:03:43.000"
                                },
                                {
                                    "Individual": "FC3-00120650",
                                    "Full name": "Малашина, Галина Миколаївна",
                                    "Date of birth": "1956-03-04",
                                    "Legal Status": "Internally displaced person",
                                    "Document category": "Travel Documentation",
                                    "Document type": "National passport",
                                    "Document sub type": "NULL",
                                    "Number-Duplicate": "ВС728636",
                                    "Date of issue": "2000-12-22",
                                    "Date of expiry": "NULL",
                                    "Is original": "Yes",
                                    "Is official": "Yes",
                                    "Original seen": "Yes",
                                    "Created on": "2022-11-29 13:37:45.000"
                                },
                                {
                                    "Individual": "22D-00124276",
                                    "Full name": "Куценко, Ілля Ігорович",
                                    "Date of birth": "2014-07-30",
                                    "Legal Status": "Internally displaced person",
                                    "Document category": "Birth Documentation ",
                                    "Document type": "Birth Certificate",
                                    "Document sub type": "NULL",
                                    "Number-Duplicate": "І-КГ183787",
                                    "Date of issue": "2014-08-06",
                                    "Date of expiry": "NULL",
                                    "Is original": "Yes",
                                    "Is official": "Yes",
                                    "Original seen": "Yes",
                                    "Created on": "2022-09-09 12:57:57.000"
                                },
                                {
                                    "Individual": "FC3-110751411",
                                    "Full name": "Куценко, Ілля Ігорович",
                                    "Date of birth": "2014-07-30",
                                    "Legal Status": "Returnee",
                                    "Document category": "Birth Documentation ",
                                    "Document type": "Birth Certificate",
                                    "Document sub type": "NULL",
                                    "Number-Duplicate": "І-КГ183787",
                                    "Date of issue": "2014-08-06",
                                    "Date of expiry": "NULL",
                                    "Is original": "Yes",
                                    "Is official": "Yes",
                                    "Original seen": "Yes",
                                    "Created on": "2024-11-12 15:35:03.000"
                                },
                                {
                                    "Individual": "FC3-110790547",
                                    "Full name": "Дикань, Віктор Володимирович",
                                    "Date of birth": "1956-03-03",
                                    "Legal Status": "Not of concern",
                                    "Document category": "Travel Documentation",
                                    "Document type": "National passport",
                                    "Document sub type": "NULL",
                                    "Number-Duplicate": "СВ731230",
                                    "Date of issue": "2002-06-28",
                                    "Date of expiry": "NULL",
                                    "Is original": "Yes",
                                    "Is official": "Yes",
                                    "Original seen": "Yes",
                                    "Created on": "2024-11-14 12:20:03.000"
                                },
                                {
                                    "Individual": "FC3-108095056",
                                    "Full name": "Дикань, Віктор Володимирович",
                                    "Date of birth": "1956-03-03",
                                    "Legal Status": "Other of concern",
                                    "Document category": "Travel Documentation",
                                    "Document type": "National passport",
                                    "Document sub type": "NULL",
                                    "Number-Duplicate": "СВ731230",
                                    "Date of issue": "2002-06-28",
                                    "Date of expiry": "NULL",
                                    "Is original": "Yes",
                                    "Is official": "Yes",
                                    "Original seen": "Yes",
                                    "Created on": "2024-05-10 08:47:53.000"
                                },
                                {
                                    "Individual": "FC3-110725751",
                                    "Full name": "Гамулець, Микола Іванович",
                                    "Date of birth": "1957-01-01",
                                    "Legal Status": "Returned IDP",
                                    "Document category": "Travel Documentation",
                                    "Document type": "National passport",
                                    "Document sub type": "NULL",
                                    "Number-Duplicate": "СК888906",
                                    "Date of issue": "1998-08-28",
                                    "Date of expiry": "NULL",
                                    "Is original": "Yes",
                                    "Is official": "Yes",
                                    "Original seen": "Yes",
                                    "Created on": "2024-11-11 12:26:20.000"
                                },
                                {
                                    "Individual": "95C-00055669",
                                    "Full name": "Терганова, Людмила Борисівна",
                                    "Date of birth": "1969-01-22",
                                    "Legal Status": "Internally displaced person",
                                    "Document category": "Travel Documentation",
                                    "Document type": "National passport",
                                    "Document sub type": "NULL",
                                    "Number-Duplicate": "СК888906",
                                    "Date of issue": "1998-08-28",
                                    "Date of expiry": "NULL",
                                    "Is original": "Yes",
                                    "Is official": "Yes",
                                    "Original seen": "Yes",
                                    "Created on": "2022-05-06 00:26:55.000"
                                }
                            ]
                        },
                        "text/html": [
                            "<table>",
                            "<tr><th>Individual</th><th>Full name</th><th>Date of birth</th><th>Legal Status</th><th>Document category</th><th>Document type</th><th>Document sub type</th><th>Number-Duplicate</th><th>Date of issue</th><th>Date of expiry</th><th>Is original</th><th>Is official</th><th>Original seen</th><th>Created on</th></tr>",
                            "<tr><td>FC3-110492287</td><td>Ліхачова, Алла Петрівна</td><td>1940-02-17</td><td>Internally displaced person</td><td>Tax Documentation</td><td>Tax Registration Document</td><td>NULL</td><td>1465704208</td><td>2014-10-08</td><td>NULL</td><td>Yes</td><td>Yes</td><td>Yes</td><td>2024-10-24 11:09:41.000</td></tr>",
                            "<tr><td>FC3-110811212</td><td>Ліхачова, Алла Петрівна</td><td>1940-02-17</td><td>Not of concern</td><td>Tax Documentation</td><td>Tax Registration Document</td><td>NULL</td><td>1465704208</td><td>2014-10-08</td><td>NULL</td><td>Yes</td><td>Yes</td><td>Yes</td><td>2024-11-15 12:12:02.000</td></tr>",
                            "<tr><td>FC3-110790547</td><td>Дикань, Віктор Володимирович</td><td>1956-03-03</td><td>Not of concern</td><td>Tax Documentation</td><td>Tax Registration Document</td><td>NULL</td><td>2051615474</td><td>2000-06-06</td><td>NULL</td><td>Yes</td><td>Yes</td><td>Yes</td><td>2024-11-14 12:20:37.000</td></tr>",
                            "<tr><td>FC3-108095056</td><td>Дикань, Віктор Володимирович</td><td>1956-03-03</td><td>Other of concern</td><td>Tax Documentation</td><td>Tax Registration Document</td><td>NULL</td><td>2051615474</td><td>2000-06-06</td><td>NULL</td><td>Yes</td><td>Yes</td><td>Yes</td><td>2024-05-10 08:48:31.000</td></tr>",
                            "<tr><td>FC3-110728064</td><td>Малашина, Галина Миколаївна</td><td>1956-03-04</td><td>Not of concern</td><td>Tax Documentation</td><td>Tax Registration Document</td><td>NULL</td><td>2051715824</td><td>NULL</td><td>NULL</td><td>Yes</td><td>Yes</td><td>Yes</td><td>2024-11-11 14:04:21.000</td></tr>",
                            "<tr><td>FC3-00120650</td><td>Малашина, Галина Миколаївна</td><td>1956-03-04</td><td>Internally displaced person</td><td>Tax Documentation</td><td>Tax Registration Document</td><td>NULL</td><td>2051715824</td><td>2008-05-12</td><td>NULL</td><td>Yes</td><td>Yes</td><td>Yes</td><td>2022-11-29 13:38:14.000</td></tr>",
                            "<tr><td>FC3-110789828</td><td>Цимбал, Сергій Леонідович</td><td>1984-09-18</td><td>Other of concern</td><td>Travel Documentation</td><td>National passport</td><td>NULL</td><td>АН982898</td><td>2000-10-03</td><td>NULL</td><td>Yes</td><td>Yes</td><td>Yes</td><td>2024-11-14 11:38:10.000</td></tr>",
                            "<tr><td>FC3-107712784</td><td>Амосов, Євген Михайлович</td><td>1962-06-25</td><td>Internally displaced person</td><td>Travel Documentation</td><td>National passport</td><td>NULL</td><td>АН982898</td><td>2011-09-16</td><td>NULL</td><td>Yes</td><td>Yes</td><td>Yes</td><td>2024-04-11 11:49:56.000</td></tr>",
                            "<tr><td>FC3-00195494</td><td>Гога, Сергій Іванович</td><td>1974-03-26</td><td>Internally displaced person</td><td>Travel Documentation</td><td>National passport</td><td>NULL</td><td>АО123779</td><td>2013-07-12</td><td>NULL</td><td>Yes</td><td>Yes</td><td>Yes</td><td>2023-02-27 12:13:03.000</td></tr>",
                            "<tr><td>FC3-110791382</td><td>Гога, Сергій Іванович</td><td>1974-02-26</td><td>Other of concern</td><td>Travel Documentation</td><td>National passport</td><td>NULL</td><td>АО123779</td><td>2013-07-12</td><td>NULL</td><td>Yes</td><td>Yes</td><td>Yes</td><td>2024-11-14 13:11:29.000</td></tr>",
                            "<tr><td>FC3-110206853</td><td>Атаманцева, Анастасія Іванівна</td><td>1946-07-24</td><td>Internally displaced person</td><td>Travel Documentation</td><td>National passport</td><td>NULL</td><td>ВА805314</td><td>1997-08-15</td><td>NULL</td><td>Yes</td><td>Yes</td><td>Yes</td><td>2024-10-02 12:28:10.000</td></tr>",
                            "<tr><td>FC3-110811636</td><td>Чуприна, Віра Халимонівна</td><td>1931-01-21</td><td>Internally displaced person</td><td>Travel Documentation</td><td>National passport</td><td>NULL</td><td>ВА805314</td><td>1997-07-16</td><td>NULL</td><td>Yes</td><td>Yes</td><td>Yes</td><td>2024-11-15 12:41:37.000</td></tr>",
                            "<tr><td>FC3-110492287</td><td>Ліхачова, Алла Петрівна</td><td>1940-02-17</td><td>Internally displaced person</td><td>Travel Documentation</td><td>National passport</td><td>NULL</td><td>ВВ330601</td><td>1998-04-07</td><td>NULL</td><td>Yes</td><td>Yes</td><td>Yes</td><td>2024-10-24 11:10:13.000</td></tr>",
                            "<tr><td>FC3-110811212</td><td>Ліхачова, Алла Петрівна</td><td>1940-02-17</td><td>Not of concern</td><td>Travel Documentation</td><td>National passport</td><td>NULL</td><td>ВВ330601</td><td>1998-04-07</td><td>NULL</td><td>Yes</td><td>Yes</td><td>Yes</td><td>2024-11-15 12:11:35.000</td></tr>",
                            "<tr><td>FC3-110728064</td><td>Малашина, Галина Миколаївна</td><td>1956-03-04</td><td>Not of concern</td><td>Travel Documentation</td><td>National passport</td><td>NULL</td><td>ВС728636</td><td>2000-12-22</td><td>NULL</td><td>Yes</td><td>Yes</td><td>Yes</td><td>2024-11-11 14:03:43.000</td></tr>",
                            "<tr><td>FC3-00120650</td><td>Малашина, Галина Миколаївна</td><td>1956-03-04</td><td>Internally displaced person</td><td>Travel Documentation</td><td>National passport</td><td>NULL</td><td>ВС728636</td><td>2000-12-22</td><td>NULL</td><td>Yes</td><td>Yes</td><td>Yes</td><td>2022-11-29 13:37:45.000</td></tr>",
                            "<tr><td>22D-00124276</td><td>Куценко, Ілля Ігорович</td><td>2014-07-30</td><td>Internally displaced person</td><td>Birth Documentation </td><td>Birth Certificate</td><td>NULL</td><td>І-КГ183787</td><td>2014-08-06</td><td>NULL</td><td>Yes</td><td>Yes</td><td>Yes</td><td>2022-09-09 12:57:57.000</td></tr>",
                            "<tr><td>FC3-110751411</td><td>Куценко, Ілля Ігорович</td><td>2014-07-30</td><td>Returnee</td><td>Birth Documentation </td><td>Birth Certificate</td><td>NULL</td><td>І-КГ183787</td><td>2014-08-06</td><td>NULL</td><td>Yes</td><td>Yes</td><td>Yes</td><td>2024-11-12 15:35:03.000</td></tr>",
                            "<tr><td>FC3-110790547</td><td>Дикань, Віктор Володимирович</td><td>1956-03-03</td><td>Not of concern</td><td>Travel Documentation</td><td>National passport</td><td>NULL</td><td>СВ731230</td><td>2002-06-28</td><td>NULL</td><td>Yes</td><td>Yes</td><td>Yes</td><td>2024-11-14 12:20:03.000</td></tr>",
                            "<tr><td>FC3-108095056</td><td>Дикань, Віктор Володимирович</td><td>1956-03-03</td><td>Other of concern</td><td>Travel Documentation</td><td>National passport</td><td>NULL</td><td>СВ731230</td><td>2002-06-28</td><td>NULL</td><td>Yes</td><td>Yes</td><td>Yes</td><td>2024-05-10 08:47:53.000</td></tr>",
                            "<tr><td>FC3-110725751</td><td>Гамулець, Микола Іванович</td><td>1957-01-01</td><td>Returned IDP</td><td>Travel Documentation</td><td>National passport</td><td>NULL</td><td>СК888906</td><td>1998-08-28</td><td>NULL</td><td>Yes</td><td>Yes</td><td>Yes</td><td>2024-11-11 12:26:20.000</td></tr>",
                            "<tr><td>95C-00055669</td><td>Терганова, Людмила Борисівна</td><td>1969-01-22</td><td>Internally displaced person</td><td>Travel Documentation</td><td>National passport</td><td>NULL</td><td>СК888906</td><td>1998-08-28</td><td>NULL</td><td>Yes</td><td>Yes</td><td>Yes</td><td>2022-05-06 00:26:55.000</td></tr>",
                            "</table>"
                        ]
                    }
                },
                {
                    "output_type": "execute_result",
                    "metadata": {},
                    "execution_count": 3,
                    "data": {
                        "application/vnd.dataresource+json": {
                            "schema": {
                                "fields": [
                                    {
                                        "name": "Individual"
                                    },
                                    {
                                        "name": "Document category"
                                    },
                                    {
                                        "name": "Document type"
                                    },
                                    {
                                        "name": "Document sub type"
                                    },
                                    {
                                        "name": "Number"
                                    },
                                    {
                                        "name": "Tax ID wrong Length"
                                    },
                                    {
                                        "name": "Date of issue"
                                    },
                                    {
                                        "name": "Date of expiry"
                                    },
                                    {
                                        "name": "Is original"
                                    },
                                    {
                                        "name": "Is official"
                                    },
                                    {
                                        "name": "Original seen"
                                    },
                                    {
                                        "name": "Created on"
                                    }
                                ]
                            },
                            "data": [
                                {
                                    "Individual": "FC3-110811743",
                                    "Document category": "Tax Documentation",
                                    "Document type": "Tax Registration Document",
                                    "Document sub type": "NULL",
                                    "Number": "МР250663",
                                    "Tax ID wrong Length": "8",
                                    "Date of issue": "2008-03-01",
                                    "Date of expiry": "NULL",
                                    "Is original": "Yes",
                                    "Is official": "Yes",
                                    "Original seen": "Yes",
                                    "Created on": "2024-11-15 12:43:54.000"
                                },
                                {
                                    "Individual": "FC3-110745725",
                                    "Document category": "Tax Documentation",
                                    "Document type": "Tax Registration Document",
                                    "Document sub type": "NULL",
                                    "Number": "26395252277",
                                    "Tax ID wrong Length": "11",
                                    "Date of issue": "NULL",
                                    "Date of expiry": "NULL",
                                    "Is original": "Yes",
                                    "Is official": "Yes",
                                    "Original seen": "Yes",
                                    "Created on": "2024-11-12 11:38:14.000"
                                },
                                {
                                    "Individual": "FC3-110723316",
                                    "Document category": "Tax Documentation",
                                    "Document type": "Tax Registration Document",
                                    "Document sub type": "NULL",
                                    "Number": "010194157",
                                    "Tax ID wrong Length": "9",
                                    "Date of issue": "2018-01-26",
                                    "Date of expiry": "NULL",
                                    "Is original": "Yes",
                                    "Is official": "Yes",
                                    "Original seen": "Yes",
                                    "Created on": "2024-11-11 10:25:57.000"
                                }
                            ]
                        },
                        "text/html": [
                            "<table>",
                            "<tr><th>Individual</th><th>Document category</th><th>Document type</th><th>Document sub type</th><th>Number</th><th>Tax ID wrong Length</th><th>Date of issue</th><th>Date of expiry</th><th>Is original</th><th>Is official</th><th>Original seen</th><th>Created on</th></tr>",
                            "<tr><td>FC3-110811743</td><td>Tax Documentation</td><td>Tax Registration Document</td><td>NULL</td><td>МР250663</td><td>8</td><td>2008-03-01</td><td>NULL</td><td>Yes</td><td>Yes</td><td>Yes</td><td>2024-11-15 12:43:54.000</td></tr>",
                            "<tr><td>FC3-110745725</td><td>Tax Documentation</td><td>Tax Registration Document</td><td>NULL</td><td>26395252277</td><td>11</td><td>NULL</td><td>NULL</td><td>Yes</td><td>Yes</td><td>Yes</td><td>2024-11-12 11:38:14.000</td></tr>",
                            "<tr><td>FC3-110723316</td><td>Tax Documentation</td><td>Tax Registration Document</td><td>NULL</td><td>010194157</td><td>9</td><td>2018-01-26</td><td>NULL</td><td>Yes</td><td>Yes</td><td>Yes</td><td>2024-11-11 10:25:57.000</td></tr>",
                            "</table>"
                        ]
                    }
                },
                {
                    "output_type": "execute_result",
                    "metadata": {},
                    "execution_count": 3,
                    "data": {
                        "application/vnd.dataresource+json": {
                            "schema": {
                                "fields": [
                                    {
                                        "name": "Individual"
                                    },
                                    {
                                        "name": "Document category"
                                    },
                                    {
                                        "name": "Document type"
                                    },
                                    {
                                        "name": "Document sub type"
                                    },
                                    {
                                        "name": "Number"
                                    },
                                    {
                                        "name": "Passport wrong Length"
                                    },
                                    {
                                        "name": "Date of issue"
                                    },
                                    {
                                        "name": "Date of expiry"
                                    },
                                    {
                                        "name": "Is original"
                                    },
                                    {
                                        "name": "Is official"
                                    },
                                    {
                                        "name": "Original seen"
                                    },
                                    {
                                        "name": "Created on"
                                    }
                                ]
                            },
                            "data": [
                                {
                                    "Individual": "FC3-110813635",
                                    "Document category": "Travel Documentation",
                                    "Document type": "National passport",
                                    "Document sub type": "NULL",
                                    "Number": "ВЕ3482027",
                                    "Passport wrong Length": "9",
                                    "Date of issue": "2001-10-10",
                                    "Date of expiry": "NULL",
                                    "Is original": "Yes",
                                    "Is official": "Yes",
                                    "Original seen": "Yes",
                                    "Created on": "2024-11-15 15:03:59.000"
                                },
                                {
                                    "Individual": "FC3-110812673",
                                    "Document category": "Travel Documentation",
                                    "Document type": "National passport",
                                    "Document sub type": "NULL",
                                    "Number": "ММ1513298",
                                    "Passport wrong Length": "9",
                                    "Date of issue": "2000-07-28",
                                    "Date of expiry": "NULL",
                                    "Is original": "Yes",
                                    "Is official": "Yes",
                                    "Original seen": "Yes",
                                    "Created on": "2024-11-15 13:48:25.000"
                                },
                                {
                                    "Individual": "FC3-110811400",
                                    "Document category": "Travel Documentation",
                                    "Document type": "National passport",
                                    "Document sub type": "NULL",
                                    "Number": "2317918662",
                                    "Passport wrong Length": "10",
                                    "Date of issue": "1998-09-09",
                                    "Date of expiry": "NULL",
                                    "Is original": "Yes",
                                    "Is official": "Yes",
                                    "Original seen": "Yes",
                                    "Created on": "2024-11-15 12:24:24.000"
                                },
                                {
                                    "Individual": "FC3-110810758",
                                    "Document category": "Travel Documentation",
                                    "Document type": "National passport",
                                    "Document sub type": "NULL",
                                    "Number": "2313129303",
                                    "Passport wrong Length": "10",
                                    "Date of issue": "2001-01-11",
                                    "Date of expiry": "NULL",
                                    "Is original": "Yes",
                                    "Is official": "Yes",
                                    "Original seen": "Yes",
                                    "Created on": "2024-11-15 11:48:44.000"
                                },
                                {
                                    "Individual": "FC3-110808615",
                                    "Document category": "Travel Documentation",
                                    "Document type": "National passport",
                                    "Document sub type": "NULL",
                                    "Number": "МА93968",
                                    "Passport wrong Length": "7",
                                    "Date of issue": "2001-03-13",
                                    "Date of expiry": "NULL",
                                    "Is original": "Yes",
                                    "Is official": "Yes",
                                    "Original seen": "Yes",
                                    "Created on": "2024-11-15 09:34:44.000"
                                },
                                {
                                    "Individual": "FC3-110794249",
                                    "Document category": "Travel Documentation",
                                    "Document type": "National passport",
                                    "Document sub type": "NULL",
                                    "Number": "2296114975",
                                    "Passport wrong Length": "10",
                                    "Date of issue": "1999-06-01",
                                    "Date of expiry": "NULL",
                                    "Is original": "Yes",
                                    "Is official": "Yes",
                                    "Original seen": "Yes",
                                    "Created on": "2024-11-14 16:25:04.000"
                                },
                                {
                                    "Individual": "FC3-110790061",
                                    "Document category": "Travel Documentation",
                                    "Document type": "National passport",
                                    "Document sub type": "NULL",
                                    "Number": "ЕО3282001",
                                    "Passport wrong Length": "9",
                                    "Date of issue": "1997-04-09",
                                    "Date of expiry": "NULL",
                                    "Is original": "Yes",
                                    "Is official": "Yes",
                                    "Original seen": "Yes",
                                    "Created on": "2024-11-14 11:51:04.000"
                                },
                                {
                                    "Individual": "FC3-110772592",
                                    "Document category": "Travel Documentation",
                                    "Document type": "National passport",
                                    "Document sub type": "NULL",
                                    "Number": "6103976692",
                                    "Passport wrong Length": "10",
                                    "Date of issue": "2003-09-08",
                                    "Date of expiry": "NULL",
                                    "Is original": "Yes",
                                    "Is official": "Yes",
                                    "Original seen": "Yes",
                                    "Created on": "2024-11-13 15:12:25.000"
                                },
                                {
                                    "Individual": "FC3-110769195",
                                    "Document category": "Travel Documentation",
                                    "Document type": "National passport",
                                    "Document sub type": "NULL",
                                    "Number": "ВЕ3778747",
                                    "Passport wrong Length": "9",
                                    "Date of issue": "2001-10-19",
                                    "Date of expiry": "NULL",
                                    "Is original": "Yes",
                                    "Is official": "Yes",
                                    "Original seen": "Yes",
                                    "Created on": "2024-11-13 12:32:49.000"
                                },
                                {
                                    "Individual": "FC3-110767957",
                                    "Document category": "Travel Documentation",
                                    "Document type": "National passport",
                                    "Document sub type": "NULL",
                                    "Number": "МН31044",
                                    "Passport wrong Length": "7",
                                    "Date of issue": "2001-10-16",
                                    "Date of expiry": "NULL",
                                    "Is original": "Yes",
                                    "Is official": "Yes",
                                    "Original seen": "Yes",
                                    "Created on": "2024-11-13 11:36:15.000"
                                },
                                {
                                    "Individual": "FC3-110726775",
                                    "Document category": "Travel Documentation",
                                    "Document type": "National passport",
                                    "Document sub type": "NULL",
                                    "Number": "ЕО3218290",
                                    "Passport wrong Length": "9",
                                    "Date of issue": "1997-04-11",
                                    "Date of expiry": "NULL",
                                    "Is original": "Yes",
                                    "Is official": "Yes",
                                    "Original seen": "Yes",
                                    "Created on": "2024-11-11 13:09:40.000"
                                }
                            ]
                        },
                        "text/html": [
                            "<table>",
                            "<tr><th>Individual</th><th>Document category</th><th>Document type</th><th>Document sub type</th><th>Number</th><th>Passport wrong Length</th><th>Date of issue</th><th>Date of expiry</th><th>Is original</th><th>Is official</th><th>Original seen</th><th>Created on</th></tr>",
                            "<tr><td>FC3-110813635</td><td>Travel Documentation</td><td>National passport</td><td>NULL</td><td>ВЕ3482027</td><td>9</td><td>2001-10-10</td><td>NULL</td><td>Yes</td><td>Yes</td><td>Yes</td><td>2024-11-15 15:03:59.000</td></tr>",
                            "<tr><td>FC3-110812673</td><td>Travel Documentation</td><td>National passport</td><td>NULL</td><td>ММ1513298</td><td>9</td><td>2000-07-28</td><td>NULL</td><td>Yes</td><td>Yes</td><td>Yes</td><td>2024-11-15 13:48:25.000</td></tr>",
                            "<tr><td>FC3-110811400</td><td>Travel Documentation</td><td>National passport</td><td>NULL</td><td>2317918662</td><td>10</td><td>1998-09-09</td><td>NULL</td><td>Yes</td><td>Yes</td><td>Yes</td><td>2024-11-15 12:24:24.000</td></tr>",
                            "<tr><td>FC3-110810758</td><td>Travel Documentation</td><td>National passport</td><td>NULL</td><td>2313129303</td><td>10</td><td>2001-01-11</td><td>NULL</td><td>Yes</td><td>Yes</td><td>Yes</td><td>2024-11-15 11:48:44.000</td></tr>",
                            "<tr><td>FC3-110808615</td><td>Travel Documentation</td><td>National passport</td><td>NULL</td><td>МА93968</td><td>7</td><td>2001-03-13</td><td>NULL</td><td>Yes</td><td>Yes</td><td>Yes</td><td>2024-11-15 09:34:44.000</td></tr>",
                            "<tr><td>FC3-110794249</td><td>Travel Documentation</td><td>National passport</td><td>NULL</td><td>2296114975</td><td>10</td><td>1999-06-01</td><td>NULL</td><td>Yes</td><td>Yes</td><td>Yes</td><td>2024-11-14 16:25:04.000</td></tr>",
                            "<tr><td>FC3-110790061</td><td>Travel Documentation</td><td>National passport</td><td>NULL</td><td>ЕО3282001</td><td>9</td><td>1997-04-09</td><td>NULL</td><td>Yes</td><td>Yes</td><td>Yes</td><td>2024-11-14 11:51:04.000</td></tr>",
                            "<tr><td>FC3-110772592</td><td>Travel Documentation</td><td>National passport</td><td>NULL</td><td>6103976692</td><td>10</td><td>2003-09-08</td><td>NULL</td><td>Yes</td><td>Yes</td><td>Yes</td><td>2024-11-13 15:12:25.000</td></tr>",
                            "<tr><td>FC3-110769195</td><td>Travel Documentation</td><td>National passport</td><td>NULL</td><td>ВЕ3778747</td><td>9</td><td>2001-10-19</td><td>NULL</td><td>Yes</td><td>Yes</td><td>Yes</td><td>2024-11-13 12:32:49.000</td></tr>",
                            "<tr><td>FC3-110767957</td><td>Travel Documentation</td><td>National passport</td><td>NULL</td><td>МН31044</td><td>7</td><td>2001-10-16</td><td>NULL</td><td>Yes</td><td>Yes</td><td>Yes</td><td>2024-11-13 11:36:15.000</td></tr>",
                            "<tr><td>FC3-110726775</td><td>Travel Documentation</td><td>National passport</td><td>NULL</td><td>ЕО3218290</td><td>9</td><td>1997-04-11</td><td>NULL</td><td>Yes</td><td>Yes</td><td>Yes</td><td>2024-11-11 13:09:40.000</td></tr>",
                            "</table>"
                        ]
                    }
                },
                {
                    "output_type": "execute_result",
                    "metadata": {},
                    "execution_count": 3,
                    "data": {
                        "application/vnd.dataresource+json": {
                            "schema": {
                                "fields": [
                                    {
                                        "name": "Individual"
                                    },
                                    {
                                        "name": "Document category"
                                    },
                                    {
                                        "name": "Document type"
                                    },
                                    {
                                        "name": "Document sub type"
                                    },
                                    {
                                        "name": "Number"
                                    },
                                    {
                                        "name": "Identity card wrong Length"
                                    },
                                    {
                                        "name": "Date of issue"
                                    },
                                    {
                                        "name": "Date of expiry"
                                    },
                                    {
                                        "name": "Is original"
                                    },
                                    {
                                        "name": "Is official"
                                    },
                                    {
                                        "name": "Original seen"
                                    },
                                    {
                                        "name": "Created on"
                                    }
                                ]
                            },
                            "data": [
                                {
                                    "Individual": "FC3-110811496",
                                    "Document category": "Identity Documentation",
                                    "Document type": "National identity card",
                                    "Document sub type": "NULL",
                                    "Number": "0102447169",
                                    "Identity card wrong Length": "10",
                                    "Date of issue": "2024-02-08",
                                    "Date of expiry": "2028-02-08",
                                    "Is original": "Yes",
                                    "Is official": "Yes",
                                    "Original seen": "Yes",
                                    "Created on": "2024-11-15 12:29:42.000"
                                },
                                {
                                    "Individual": "FC3-110787614",
                                    "Document category": "Identity Documentation",
                                    "Document type": "National identity card",
                                    "Document sub type": "NULL",
                                    "Number": "0052214258",
                                    "Identity card wrong Length": "10",
                                    "Date of issue": "2020-09-17",
                                    "Date of expiry": "2030-09-17",
                                    "Is original": "Yes",
                                    "Is official": "Yes",
                                    "Original seen": "Yes",
                                    "Created on": "2024-11-14 09:32:37.000"
                                },
                                {
                                    "Individual": "FC3-110747000",
                                    "Document category": "Identity Documentation",
                                    "Document type": "National identity card",
                                    "Document sub type": "NULL",
                                    "Number": "0062167096",
                                    "Identity card wrong Length": "10",
                                    "Date of issue": "2021-06-11",
                                    "Date of expiry": "2031-06-11",
                                    "Is original": "Yes",
                                    "Is official": "Yes",
                                    "Original seen": "Yes",
                                    "Created on": "2024-11-12 12:33:40.000"
                                },
                                {
                                    "Individual": "FC3-110727996",
                                    "Document category": "Identity Documentation",
                                    "Document type": "National identity card",
                                    "Document sub type": "NULL",
                                    "Number": "0100200874",
                                    "Identity card wrong Length": "10",
                                    "Date of issue": "2023-12-08",
                                    "Date of expiry": "2027-12-08",
                                    "Is original": "Yes",
                                    "Is official": "Yes",
                                    "Original seen": "Yes",
                                    "Created on": "2024-11-11 13:59:42.000"
                                },
                                {
                                    "Individual": "FC3-110727434",
                                    "Document category": "Identity Documentation",
                                    "Document type": "National identity card",
                                    "Document sub type": "NULL",
                                    "Number": "00245263",
                                    "Identity card wrong Length": "8",
                                    "Date of issue": "2018-08-02",
                                    "Date of expiry": "2028-08-02",
                                    "Is original": "Yes",
                                    "Is official": "Yes",
                                    "Original seen": "Yes",
                                    "Created on": "2024-11-11 13:37:12.000"
                                }
                            ]
                        },
                        "text/html": [
                            "<table>",
                            "<tr><th>Individual</th><th>Document category</th><th>Document type</th><th>Document sub type</th><th>Number</th><th>Identity card wrong Length</th><th>Date of issue</th><th>Date of expiry</th><th>Is original</th><th>Is official</th><th>Original seen</th><th>Created on</th></tr>",
                            "<tr><td>FC3-110811496</td><td>Identity Documentation</td><td>National identity card</td><td>NULL</td><td>0102447169</td><td>10</td><td>2024-02-08</td><td>2028-02-08</td><td>Yes</td><td>Yes</td><td>Yes</td><td>2024-11-15 12:29:42.000</td></tr>",
                            "<tr><td>FC3-110787614</td><td>Identity Documentation</td><td>National identity card</td><td>NULL</td><td>0052214258</td><td>10</td><td>2020-09-17</td><td>2030-09-17</td><td>Yes</td><td>Yes</td><td>Yes</td><td>2024-11-14 09:32:37.000</td></tr>",
                            "<tr><td>FC3-110747000</td><td>Identity Documentation</td><td>National identity card</td><td>NULL</td><td>0062167096</td><td>10</td><td>2021-06-11</td><td>2031-06-11</td><td>Yes</td><td>Yes</td><td>Yes</td><td>2024-11-12 12:33:40.000</td></tr>",
                            "<tr><td>FC3-110727996</td><td>Identity Documentation</td><td>National identity card</td><td>NULL</td><td>0100200874</td><td>10</td><td>2023-12-08</td><td>2027-12-08</td><td>Yes</td><td>Yes</td><td>Yes</td><td>2024-11-11 13:59:42.000</td></tr>",
                            "<tr><td>FC3-110727434</td><td>Identity Documentation</td><td>National identity card</td><td>NULL</td><td>00245263</td><td>8</td><td>2018-08-02</td><td>2028-08-02</td><td>Yes</td><td>Yes</td><td>Yes</td><td>2024-11-11 13:37:12.000</td></tr>",
                            "</table>"
                        ]
                    }
                },
                {
                    "output_type": "execute_result",
                    "metadata": {},
                    "execution_count": 3,
                    "data": {
                        "application/vnd.dataresource+json": {
                            "schema": {
                                "fields": [
                                    {
                                        "name": "Individual"
                                    },
                                    {
                                        "name": "Document category"
                                    },
                                    {
                                        "name": "Document type"
                                    },
                                    {
                                        "name": "Document sub type"
                                    },
                                    {
                                        "name": "Number"
                                    },
                                    {
                                        "name": "Birth Certificate wrong Length"
                                    },
                                    {
                                        "name": "Date of issue"
                                    },
                                    {
                                        "name": "Date of expiry"
                                    },
                                    {
                                        "name": "Is original"
                                    },
                                    {
                                        "name": "Is official"
                                    },
                                    {
                                        "name": "Original seen"
                                    },
                                    {
                                        "name": "Created on"
                                    }
                                ]
                            },
                            "data": [
                                {
                                    "Individual": "FC3-110811767",
                                    "Document category": "Birth Documentation ",
                                    "Document type": "Birth Certificate",
                                    "Document sub type": "NULL",
                                    "Number": "А26",
                                    "Birth Certificate wrong Length": "3",
                                    "Date of issue": "2021-03-18",
                                    "Date of expiry": "NULL",
                                    "Is original": "Yes",
                                    "Is official": "Yes",
                                    "Original seen": "Yes",
                                    "Created on": "2024-11-15 12:48:58.000"
                                },
                                {
                                    "Individual": "FC3-110811411",
                                    "Document category": "Birth Documentation ",
                                    "Document type": "Birth Certificate",
                                    "Document sub type": "NULL",
                                    "Number": "АЕ9543605",
                                    "Birth Certificate wrong Length": "9",
                                    "Date of issue": "2022-07-28",
                                    "Date of expiry": "NULL",
                                    "Is original": "Yes",
                                    "Is official": "Yes",
                                    "Original seen": "Yes",
                                    "Created on": "2024-11-15 12:29:12.000"
                                },
                                {
                                    "Individual": "FC3-110809822",
                                    "Document category": "Birth Documentation ",
                                    "Document type": "Birth Certificate",
                                    "Document sub type": "NULL",
                                    "Number": "ІІІ-АИ800706",
                                    "Birth Certificate wrong Length": "12",
                                    "Date of issue": "2013-07-24",
                                    "Date of expiry": "NULL",
                                    "Is original": "Yes",
                                    "Is official": "Yes",
                                    "Original seen": "Yes",
                                    "Created on": "2024-11-15 10:50:53.000"
                                },
                                {
                                    "Individual": "FC3-110792144",
                                    "Document category": "Birth Documentation ",
                                    "Document type": "Birth Certificate",
                                    "Document sub type": "NULL",
                                    "Number": "794/2022",
                                    "Birth Certificate wrong Length": "8",
                                    "Date of issue": "2022-08-10",
                                    "Date of expiry": "NULL",
                                    "Is original": "Yes",
                                    "Is official": "Yes",
                                    "Original seen": "Yes",
                                    "Created on": "2024-11-14 14:01:48.000"
                                },
                                {
                                    "Individual": "FC3-110774444",
                                    "Document category": "Birth Documentation ",
                                    "Document type": "Birth Certificate",
                                    "Document sub type": "NULL",
                                    "Number": "І-ЖС 327343",
                                    "Birth Certificate wrong Length": "11",
                                    "Date of issue": "2016-12-07",
                                    "Date of expiry": "NULL",
                                    "Is original": "Yes",
                                    "Is official": "Yes",
                                    "Original seen": "Yes",
                                    "Created on": "2024-11-13 16:47:51.000"
                                },
                                {
                                    "Individual": "FC3-110750401",
                                    "Document category": "Birth Documentation ",
                                    "Document type": "Birth Certificate",
                                    "Document sub type": "NULL",
                                    "Number": "І-ВЛ 219361",
                                    "Birth Certificate wrong Length": "11",
                                    "Date of issue": "2010-12-15",
                                    "Date of expiry": "NULL",
                                    "Is original": "Yes",
                                    "Is official": "Yes",
                                    "Original seen": "Yes",
                                    "Created on": "2024-11-12 14:44:55.000"
                                },
                                {
                                    "Individual": "FC3-110726728",
                                    "Document category": "Birth Documentation ",
                                    "Document type": "Birth Certificate",
                                    "Document sub type": "NULL",
                                    "Number": "І-ЖД13854",
                                    "Birth Certificate wrong Length": "9",
                                    "Date of issue": "2012-07-12",
                                    "Date of expiry": "NULL",
                                    "Is original": "Yes",
                                    "Is official": "Yes",
                                    "Original seen": "Yes",
                                    "Created on": "2024-11-11 13:09:16.000"
                                },
                                {
                                    "Individual": "FC3-110722407",
                                    "Document category": "Birth Documentation ",
                                    "Document type": "Birth Certificate",
                                    "Document sub type": "NULL",
                                    "Number": "243",
                                    "Birth Certificate wrong Length": "3",
                                    "Date of issue": "2023-11-07",
                                    "Date of expiry": "NULL",
                                    "Is original": "Yes",
                                    "Is official": "Yes",
                                    "Original seen": "Yes",
                                    "Created on": "2024-11-11 09:41:49.000"
                                }
                            ]
                        },
                        "text/html": [
                            "<table>",
                            "<tr><th>Individual</th><th>Document category</th><th>Document type</th><th>Document sub type</th><th>Number</th><th>Birth Certificate wrong Length</th><th>Date of issue</th><th>Date of expiry</th><th>Is original</th><th>Is official</th><th>Original seen</th><th>Created on</th></tr>",
                            "<tr><td>FC3-110811767</td><td>Birth Documentation </td><td>Birth Certificate</td><td>NULL</td><td>А26</td><td>3</td><td>2021-03-18</td><td>NULL</td><td>Yes</td><td>Yes</td><td>Yes</td><td>2024-11-15 12:48:58.000</td></tr>",
                            "<tr><td>FC3-110811411</td><td>Birth Documentation </td><td>Birth Certificate</td><td>NULL</td><td>АЕ9543605</td><td>9</td><td>2022-07-28</td><td>NULL</td><td>Yes</td><td>Yes</td><td>Yes</td><td>2024-11-15 12:29:12.000</td></tr>",
                            "<tr><td>FC3-110809822</td><td>Birth Documentation </td><td>Birth Certificate</td><td>NULL</td><td>ІІІ-АИ800706</td><td>12</td><td>2013-07-24</td><td>NULL</td><td>Yes</td><td>Yes</td><td>Yes</td><td>2024-11-15 10:50:53.000</td></tr>",
                            "<tr><td>FC3-110792144</td><td>Birth Documentation </td><td>Birth Certificate</td><td>NULL</td><td>794/2022</td><td>8</td><td>2022-08-10</td><td>NULL</td><td>Yes</td><td>Yes</td><td>Yes</td><td>2024-11-14 14:01:48.000</td></tr>",
                            "<tr><td>FC3-110774444</td><td>Birth Documentation </td><td>Birth Certificate</td><td>NULL</td><td>І-ЖС 327343</td><td>11</td><td>2016-12-07</td><td>NULL</td><td>Yes</td><td>Yes</td><td>Yes</td><td>2024-11-13 16:47:51.000</td></tr>",
                            "<tr><td>FC3-110750401</td><td>Birth Documentation </td><td>Birth Certificate</td><td>NULL</td><td>І-ВЛ 219361</td><td>11</td><td>2010-12-15</td><td>NULL</td><td>Yes</td><td>Yes</td><td>Yes</td><td>2024-11-12 14:44:55.000</td></tr>",
                            "<tr><td>FC3-110726728</td><td>Birth Documentation </td><td>Birth Certificate</td><td>NULL</td><td>І-ЖД13854</td><td>9</td><td>2012-07-12</td><td>NULL</td><td>Yes</td><td>Yes</td><td>Yes</td><td>2024-11-11 13:09:16.000</td></tr>",
                            "<tr><td>FC3-110722407</td><td>Birth Documentation </td><td>Birth Certificate</td><td>NULL</td><td>243</td><td>3</td><td>2023-11-07</td><td>NULL</td><td>Yes</td><td>Yes</td><td>Yes</td><td>2024-11-11 09:41:49.000</td></tr>",
                            "</table>"
                        ]
                    }
                },
                {
                    "output_type": "execute_result",
                    "metadata": {},
                    "execution_count": 3,
                    "data": {
                        "application/vnd.dataresource+json": {
                            "schema": {
                                "fields": [
                                    {
                                        "name": "Missing UKIDP-REG02 NO TAX ID event"
                                    }
                                ]
                            },
                            "data": []
                        },
                        "text/html": [
                            "<table>",
                            "<tr><th>Missing UKIDP-REG02 NO TAX ID event</th></tr>",
                            "</table>"
                        ]
                    }
                },
                {
                    "output_type": "execute_result",
                    "metadata": {},
                    "execution_count": 3,
                    "data": {
                        "application/vnd.dataresource+json": {
                            "schema": {
                                "fields": [
                                    {
                                        "name": "Wrong NO TAX ID code"
                                    }
                                ]
                            },
                            "data": []
                        },
                        "text/html": [
                            "<table>",
                            "<tr><th>Wrong NO TAX ID code</th></tr>",
                            "</table>"
                        ]
                    }
                },
                {
                    "output_type": "execute_result",
                    "metadata": {},
                    "execution_count": 3,
                    "data": {
                        "application/vnd.dataresource+json": {
                            "schema": {
                                "fields": [
                                    {
                                        "name": "Individual ID"
                                    },
                                    {
                                        "name": "Full name"
                                    },
                                    {
                                        "name": "Registration Group ID"
                                    },
                                    {
                                        "name": "Legal Status"
                                    },
                                    {
                                        "name": "Arrival date"
                                    },
                                    {
                                        "name": "Legacy ID"
                                    },
                                    {
                                        "name": "Result"
                                    },
                                    {
                                        "name": "Result short name"
                                    },
                                    {
                                        "name": "Comments"
                                    }
                                ]
                            },
                            "data": [
                                {
                                    "Individual ID": "FC3-110745726",
                                    "Full name": "Кушпіт, Зоряна Віталіївна",
                                    "Registration Group ID": "FC3-24-4684978",
                                    "Legal Status": "Returned IDP",
                                    "Arrival date": "2023-11-23",
                                    "Legacy ID": "NTID A",
                                    "Result": "NULL",
                                    "Result short name": "NULL",
                                    "Comments": "Result to Code correspondance check for Missing Tax IDs"
                                },
                                {
                                    "Individual ID": "FC3-110746956",
                                    "Full name": "Птиця, Валерія Олександрівна",
                                    "Registration Group ID": "FC3-24-4685421",
                                    "Legal Status": "Returnee",
                                    "Arrival date": "2022-09-26",
                                    "Legacy ID": "NTID A",
                                    "Result": "NULL",
                                    "Result short name": "NULL",
                                    "Comments": "Result to Code correspondance check for Missing Tax IDs"
                                },
                                {
                                    "Individual ID": "FC3-110769065",
                                    "Full name": "Шмалюх, Даніела Вадимівна",
                                    "Registration Group ID": "FC3-24-4689470",
                                    "Legal Status": "Returned IDP",
                                    "Arrival date": "2022-05-11",
                                    "Legacy ID": "NTID A",
                                    "Result": "NULL",
                                    "Result short name": "NULL",
                                    "Comments": "Result to Code correspondance check for Missing Tax IDs"
                                },
                                {
                                    "Individual ID": "FC3-110769224",
                                    "Full name": "Шмалюх, Анастасія Вадимівна",
                                    "Registration Group ID": "FC3-24-4689470",
                                    "Legal Status": "Returned IDP",
                                    "Arrival date": "2022-05-11",
                                    "Legacy ID": "NTID A",
                                    "Result": "NULL",
                                    "Result short name": "NULL",
                                    "Comments": "Result to Code correspondance check for Missing Tax IDs"
                                },
                                {
                                    "Individual ID": "FC3-110772125",
                                    "Full name": "Давіташвілі, Грігол Валер'янович",
                                    "Registration Group ID": "FC3-24-4690300",
                                    "Legal Status": "Internally displaced person",
                                    "Arrival date": "2024-10-30",
                                    "Legacy ID": "NTID A",
                                    "Result": "NULL",
                                    "Result short name": "NULL",
                                    "Comments": "Result to Code correspondance check for Missing Tax IDs"
                                },
                                {
                                    "Individual ID": "FC3-110772592",
                                    "Full name": "Федонкін, Анатолій Олександрович",
                                    "Registration Group ID": "FC3-24-4690449",
                                    "Legal Status": "IDP-like",
                                    "Arrival date": "2024-11-13",
                                    "Legacy ID": "NA",
                                    "Result": "UKIDP-REG09",
                                    "Result short name": "Due to personal reasons",
                                    "Comments": "Result to Code correspondance check for Missing Tax IDs"
                                },
                                {
                                    "Individual ID": "FC3-110772746",
                                    "Full name": "Сидоренко, Ярослава Ігорівна",
                                    "Registration Group ID": "FC3-24-4690533",
                                    "Legal Status": "Returnee",
                                    "Arrival date": "2022-07-25",
                                    "Legacy ID": "NTID A",
                                    "Result": "NULL",
                                    "Result short name": "NULL",
                                    "Comments": "Result to Code correspondance check for Missing Tax IDs"
                                },
                                {
                                    "Individual ID": "FC3-110792805",
                                    "Full name": "Некряч, Марія Валеріївна",
                                    "Registration Group ID": "FC3-24-4694416",
                                    "Legal Status": "Returned IDP",
                                    "Arrival date": "2022-12-16",
                                    "Legacy ID": "NTID A",
                                    "Result": "NULL",
                                    "Result short name": "NULL",
                                    "Comments": "Result to Code correspondance check for Missing Tax IDs"
                                },
                                {
                                    "Individual ID": "FC3-110811594",
                                    "Full name": "Резников, Ярослав Романович",
                                    "Registration Group ID": "FC3-23-1908905",
                                    "Legal Status": "Other of concern",
                                    "Arrival date": "2024-11-15",
                                    "Legacy ID": "NA",
                                    "Result": "UKIDP-REG09",
                                    "Result short name": "Due to personal reasons",
                                    "Comments": "Result to Code correspondance check for Missing Tax IDs"
                                },
                                {
                                    "Individual ID": "FC3-110812136",
                                    "Full name": "Шевченко, Артем Максимович",
                                    "Registration Group ID": "FC3-24-4698085",
                                    "Legal Status": "Other of concern",
                                    "Arrival date": "2024-11-15",
                                    "Legacy ID": "NA",
                                    "Result": "UKIDP-REG09",
                                    "Result short name": "Due to personal reasons",
                                    "Comments": "Result to Code correspondance check for Missing Tax IDs"
                                }
                            ]
                        },
                        "text/html": [
                            "<table>",
                            "<tr><th>Individual ID</th><th>Full name</th><th>Registration Group ID</th><th>Legal Status</th><th>Arrival date</th><th>Legacy ID</th><th>Result</th><th>Result short name</th><th>Comments</th></tr>",
                            "<tr><td>FC3-110745726</td><td>Кушпіт, Зоряна Віталіївна</td><td>FC3-24-4684978</td><td>Returned IDP</td><td>2023-11-23</td><td>NTID A</td><td>NULL</td><td>NULL</td><td>Result to Code correspondance check for Missing Tax IDs</td></tr>",
                            "<tr><td>FC3-110746956</td><td>Птиця, Валерія Олександрівна</td><td>FC3-24-4685421</td><td>Returnee</td><td>2022-09-26</td><td>NTID A</td><td>NULL</td><td>NULL</td><td>Result to Code correspondance check for Missing Tax IDs</td></tr>",
                            "<tr><td>FC3-110769065</td><td>Шмалюх, Даніела Вадимівна</td><td>FC3-24-4689470</td><td>Returned IDP</td><td>2022-05-11</td><td>NTID A</td><td>NULL</td><td>NULL</td><td>Result to Code correspondance check for Missing Tax IDs</td></tr>",
                            "<tr><td>FC3-110769224</td><td>Шмалюх, Анастасія Вадимівна</td><td>FC3-24-4689470</td><td>Returned IDP</td><td>2022-05-11</td><td>NTID A</td><td>NULL</td><td>NULL</td><td>Result to Code correspondance check for Missing Tax IDs</td></tr>",
                            "<tr><td>FC3-110772125</td><td>Давіташвілі, Грігол Валер&#39;янович</td><td>FC3-24-4690300</td><td>Internally displaced person</td><td>2024-10-30</td><td>NTID A</td><td>NULL</td><td>NULL</td><td>Result to Code correspondance check for Missing Tax IDs</td></tr>",
                            "<tr><td>FC3-110772592</td><td>Федонкін, Анатолій Олександрович</td><td>FC3-24-4690449</td><td>IDP-like</td><td>2024-11-13</td><td>NA</td><td>UKIDP-REG09</td><td>Due to personal reasons</td><td>Result to Code correspondance check for Missing Tax IDs</td></tr>",
                            "<tr><td>FC3-110772746</td><td>Сидоренко, Ярослава Ігорівна</td><td>FC3-24-4690533</td><td>Returnee</td><td>2022-07-25</td><td>NTID A</td><td>NULL</td><td>NULL</td><td>Result to Code correspondance check for Missing Tax IDs</td></tr>",
                            "<tr><td>FC3-110792805</td><td>Некряч, Марія Валеріївна</td><td>FC3-24-4694416</td><td>Returned IDP</td><td>2022-12-16</td><td>NTID A</td><td>NULL</td><td>NULL</td><td>Result to Code correspondance check for Missing Tax IDs</td></tr>",
                            "<tr><td>FC3-110811594</td><td>Резников, Ярослав Романович</td><td>FC3-23-1908905</td><td>Other of concern</td><td>2024-11-15</td><td>NA</td><td>UKIDP-REG09</td><td>Due to personal reasons</td><td>Result to Code correspondance check for Missing Tax IDs</td></tr>",
                            "<tr><td>FC3-110812136</td><td>Шевченко, Артем Максимович</td><td>FC3-24-4698085</td><td>Other of concern</td><td>2024-11-15</td><td>NA</td><td>UKIDP-REG09</td><td>Due to personal reasons</td><td>Result to Code correspondance check for Missing Tax IDs</td></tr>",
                            "</table>"
                        ]
                    }
                }
            ],
            "execution_count": 3
        }
    ]
}